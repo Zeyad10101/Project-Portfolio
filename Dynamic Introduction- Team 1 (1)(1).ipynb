{
 "cells": [
  {
   "cell_type": "markdown",
   "id": "3eaa1b8f",
   "metadata": {},
   "source": [
    "\n",
    "We are team number 1 that consists of 4 teammembers. Our team members are Lilian ,Georgio, Jessica and Bahaa .\n",
    "All of us are currently pursuing a part-time Master degree in Business Analytics \n",
    "at Hult International Business School in Dubai. We are all attending the course in person in Dubai. \n",
    "Lilian loves reading books on her free times, she is from Iran and been living in United arab Emirates for the last \n",
    "16 years. She works in a multinational flavor manufacturing company.\n",
    "Bahaa is colorblind so he cannot play UNO. He is a Business Management Garduate and he was born and raised in Dubai and he \n",
    "is originally from Lebanon. He used to be an avid runner and he likes to stay active.\n",
    "Georgio is a mathematician and he works as a risk anaylist in a bank in UAE. He moved to Dubai recently before starting his masters.\n",
    "He loves playing football.\n",
    "Jessica is an industrial engineer and she works in oil and gas industry. She loves crossfit and travelling.\n",
    "she loves learning about different cultures. She is from Lebanon and lives in Dubai as well.\n",
    "\n"
   ]
  },
  {
   "cell_type": "code",
   "execution_count": 10,
   "id": "dacabe53",
   "metadata": {},
   "outputs": [
    {
     "name": "stdout",
     "output_type": "stream",
     "text": [
      "\n",
      "----------------------------------------\n",
      "\n",
      "DIRECTIONS:\n",
      "In this game, we are going to create a story based on words you select.\n",
      "Each blank contains a part of speech, and your job is to input the first\n",
      "word that comes to your mind. After you have filled in all of the blanks,\n",
      "your story will appear.\n",
      "\n",
      "There are a total of 12 blanks.\n",
      "\n",
      "----------------------------------------\n",
      "\n",
      "Team number:\n",
      "1\n",
      "Number of members in team:\n",
      "4\n",
      "Team members names separated by comma:\n",
      " Bahaa, Lilian, Jessica, Georgio\n",
      "Program Name:\n",
      "Business Analytics\n",
      "Hult campus you are attending: \n",
      "Dubai\n",
      "Lilian Hobby:\n",
      "Reading Books\n",
      "Georgio professiobnal background:\n",
      "Mathematician\n",
      "Lilian is from:\n",
      "Iran\n",
      "Jessicas Hobby:\n",
      "Crossfit\n",
      "Bahaa city of birth: \n",
      "Dubai\n",
      "\n",
      "\f",
      "\n",
      "****************************************\n",
      "****************************************\n",
      "             \n",
      "We are team number 1 that consists of 4 teammembers. Our team members are Bahaa, Lilian, Jessica, Georgio .\n",
      "All of us are currently pursuing a part-time Master degree in Business Analytics \n",
      "at Hult International Business School in Dubai. We are all attending the course in person in Dubai. \n",
      "Lilian loves Reading Books on her free times, she is from Iran and been living in United arab Emirates for the last \n",
      "16 years. She works in a multinational flavor manufacturing company.\n",
      "Bahaa is colorblind so he cannot play UNO. He is a Business Management Garduate and he was born and raised in Dubai and he \n",
      "is originally from Lebanon. He used to be an avid runner and he likes to stay active.\n",
      "Georgio is a Mathematician and he works as a risk anaylist in a bank in UAE. He moved to Dubai recently before starting his masters.\n",
      "He loves playing football.\n",
      "Jessica is an industrial engineer and she works in oil and gas industry. She loves Crossfit.\n",
      "she loves learning about different cultures. She is from Lebanon and lives in Dubai as well.\n",
      "\n",
      "****************************************\n",
      "****************************************\n",
      "\n"
     ]
    }
   ],
   "source": [
    "print(f\"\"\"\n",
    "{'-' * 40}\n",
    "\n",
    "DIRECTIONS:\n",
    "We have described our team as a static output and to show \n",
    "\n",
    "There are a total of 10 blanks.\n",
    "\n",
    "{'-' * 40}\\n\"\"\")\n",
    "#to prompt user input \n",
    "team_number = input('Team number:\\n') #team number which is 1 \n",
    "team_member = input('Number of members in team:\\n') # number of members which is 4\n",
    "team_members_names = input('Team members names separated by comma:\\n ') #team memebers names which are lilian, georgia\n",
    "course_name = input('Program Name:\\n') #Program name which is Business Analytics \n",
    "course_location = input('Hult campus you are attending: \\n') #Hult campus location which is Dubai\n",
    "hobby_1=input('Lilian Hobby:\\n') #Lilian's ho menage a trois \n",
    "background_1 = input('Georgio professiobnal background:\\n')\n",
    "nationality_1 = input('Lilian is from:\\n')\n",
    "hobby_2=input('Jessicas Hobby:\\n')\n",
    "country_of_birth = input('Bahaa city of birth: \\n')\n",
    "\n",
    "print(f\"\"\"\n",
    "\\f\n",
    "{'*' * 40}\n",
    "{'*' * 40}\n",
    "\n",
    "#This is the dynamic text that changes according to the users input\n",
    "\n",
    "We are team number {team_number} that consists of {team_member} teammembers. Our team members are {team_members_names} .\n",
    "All of us are currently pursuing a part-time Master degree in {course_name} \n",
    "at Hult International Business School in Dubai. We are all attending the course in person in {course_location}. \n",
    "Lilian loves {hobby_1} on her free times, she is from {nationality_1} and been living in United arab Emirates for the last \n",
    "16 years. She works in a multinational flavor manufacturing company.\n",
    "Bahaa is colorblind so he cannot play UNO. He is a Business Management Garduate and he was born and raised in {country_of_birth} and he \n",
    "is originally from Lebanon. He used to be an avid runner and he likes to stay active.\n",
    "Georgio is a {background_1} and he works as a risk anaylist in a bank in UAE. He moved to Dubai recently before starting his masters.\n",
    "He loves playing football.\n",
    "Jessica is an industrial engineer and she works in oil and gas industry. She loves {hobby_2}.\n",
    "she loves learning about different cultures. She is from Lebanon and lives in Dubai as well.\n",
    "\n",
    "{'*' * 40}\n",
    "{'*' * 40}\n",
    "\"\"\")\n",
    "\n",
    "\n",
    "\n",
    "\n",
    "\n",
    "\n",
    "\n"
   ]
  }
 ],
 "metadata": {
  "kernelspec": {
   "display_name": "Python 3 (ipykernel)",
   "language": "python",
   "name": "python3"
  },
  "language_info": {
   "codemirror_mode": {
    "name": "ipython",
    "version": 3
   },
   "file_extension": ".py",
   "mimetype": "text/x-python",
   "name": "python",
   "nbconvert_exporter": "python",
   "pygments_lexer": "ipython3",
   "version": "3.9.7"
  },
  "latex_envs": {
   "LaTeX_envs_menu_present": true,
   "autoclose": false,
   "autocomplete": true,
   "bibliofile": "biblio.bib",
   "cite_by": "apalike",
   "current_citInitial": 1,
   "eqLabelWithNumbers": true,
   "eqNumInitial": 1,
   "hotkeys": {
    "equation": "Ctrl-E",
    "itemize": "Ctrl-I"
   },
   "labels_anchors": false,
   "latex_user_defs": false,
   "report_style_numbering": false,
   "user_envs_cfg": false
  },
  "toc": {
   "base_numbering": 1,
   "nav_menu": {},
   "number_sections": true,
   "sideBar": true,
   "skip_h1_title": false,
   "title_cell": "Table of Contents",
   "title_sidebar": "Contents",
   "toc_cell": false,
   "toc_position": {},
   "toc_section_display": true,
   "toc_window_display": false
  },
  "varInspector": {
   "cols": {
    "lenName": 16,
    "lenType": 16,
    "lenVar": 40
   },
   "kernels_config": {
    "python": {
     "delete_cmd_postfix": "",
     "delete_cmd_prefix": "del ",
     "library": "var_list.py",
     "varRefreshCmd": "print(var_dic_list())"
    },
    "r": {
     "delete_cmd_postfix": ") ",
     "delete_cmd_prefix": "rm(",
     "library": "var_list.r",
     "varRefreshCmd": "cat(var_dic_list()) "
    }
   },
   "types_to_exclude": [
    "module",
    "function",
    "builtin_function_or_method",
    "instance",
    "_Feature"
   ],
   "window_display": false
  }
 },
 "nbformat": 4,
 "nbformat_minor": 5
}
