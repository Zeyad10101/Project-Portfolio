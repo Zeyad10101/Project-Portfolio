{
 "cells": [
  {
   "cell_type": "code",
   "execution_count": 1,
   "id": "e7e386c1",
   "metadata": {},
   "outputs": [],
   "source": [
    "# comment here"
   ]
  },
  {
   "cell_type": "code",
   "execution_count": 2,
   "id": "8a9b1245",
   "metadata": {},
   "outputs": [
    {
     "data": {
      "text/plain": [
       "5"
      ]
     },
     "execution_count": 2,
     "metadata": {},
     "output_type": "execute_result"
    }
   ],
   "source": [
    "# 2 + 2\n",
    "2 + 3"
   ]
  },
  {
   "cell_type": "code",
   "execution_count": 3,
   "id": "735dc27d",
   "metadata": {},
   "outputs": [
    {
     "data": {
      "text/plain": [
       "5.5"
      ]
     },
     "execution_count": 3,
     "metadata": {},
     "output_type": "execute_result"
    }
   ],
   "source": [
    "2.5 + 3"
   ]
  },
  {
   "cell_type": "code",
   "execution_count": 4,
   "id": "f151c536",
   "metadata": {},
   "outputs": [
    {
     "data": {
      "text/plain": [
       "int"
      ]
     },
     "execution_count": 4,
     "metadata": {},
     "output_type": "execute_result"
    }
   ],
   "source": [
    "type(2)"
   ]
  },
  {
   "cell_type": "code",
   "execution_count": 5,
   "id": "213cda9b",
   "metadata": {},
   "outputs": [
    {
     "data": {
      "text/plain": [
       "float"
      ]
     },
     "execution_count": 5,
     "metadata": {},
     "output_type": "execute_result"
    }
   ],
   "source": [
    "type(2.5)"
   ]
  },
  {
   "cell_type": "code",
   "execution_count": 6,
   "id": "7b0cac2d",
   "metadata": {},
   "outputs": [
    {
     "data": {
      "text/plain": [
       "str"
      ]
     },
     "execution_count": 6,
     "metadata": {},
     "output_type": "execute_result"
    }
   ],
   "source": [
    "type(\"social media class\")"
   ]
  },
  {
   "cell_type": "code",
   "execution_count": 7,
   "id": "3fafcfbd",
   "metadata": {},
   "outputs": [],
   "source": [
    "a = 3"
   ]
  },
  {
   "cell_type": "code",
   "execution_count": 8,
   "id": "4bc6d661",
   "metadata": {},
   "outputs": [
    {
     "data": {
      "text/plain": [
       "3"
      ]
     },
     "execution_count": 8,
     "metadata": {},
     "output_type": "execute_result"
    }
   ],
   "source": [
    "a"
   ]
  },
  {
   "cell_type": "code",
   "execution_count": 9,
   "id": "3a026bd3",
   "metadata": {},
   "outputs": [
    {
     "data": {
      "text/plain": [
       "5"
      ]
     },
     "execution_count": 9,
     "metadata": {},
     "output_type": "execute_result"
    }
   ],
   "source": [
    "a = 5\n",
    "a"
   ]
  },
  {
   "cell_type": "code",
   "execution_count": 10,
   "id": "b670ad28",
   "metadata": {},
   "outputs": [
    {
     "data": {
      "text/plain": [
       "7"
      ]
     },
     "execution_count": 10,
     "metadata": {},
     "output_type": "execute_result"
    }
   ],
   "source": [
    "a + 2"
   ]
  },
  {
   "cell_type": "code",
   "execution_count": 11,
   "id": "4cecffcf",
   "metadata": {},
   "outputs": [
    {
     "ename": "TypeError",
     "evalue": "unsupported operand type(s) for +: 'int' and 'str'",
     "output_type": "error",
     "traceback": [
      "\u001b[0;31m---------------------------------------------------------------------------\u001b[0m",
      "\u001b[0;31mTypeError\u001b[0m                                 Traceback (most recent call last)",
      "\u001b[0;32m/var/folders/kr/1zs240g17nl_9nf02dsqzmwc0000gn/T/ipykernel_7930/2626301213.py\u001b[0m in \u001b[0;36m<module>\u001b[0;34m\u001b[0m\n\u001b[0;32m----> 1\u001b[0;31m \u001b[0ma\u001b[0m \u001b[0;34m+\u001b[0m \u001b[0;34m\"social media\"\u001b[0m\u001b[0;34m\u001b[0m\u001b[0;34m\u001b[0m\u001b[0m\n\u001b[0m",
      "\u001b[0;31mTypeError\u001b[0m: unsupported operand type(s) for +: 'int' and 'str'"
     ]
    }
   ],
   "source": [
    "a + \"social media\""
   ]
  },
  {
   "cell_type": "code",
   "execution_count": 21,
   "id": "ef5772a2",
   "metadata": {},
   "outputs": [],
   "source": [
    "b = \"social \""
   ]
  },
  {
   "cell_type": "code",
   "execution_count": 22,
   "id": "1a78986a",
   "metadata": {},
   "outputs": [],
   "source": [
    "c = \"media\""
   ]
  },
  {
   "cell_type": "code",
   "execution_count": 23,
   "id": "c66dc087",
   "metadata": {},
   "outputs": [
    {
     "data": {
      "text/plain": [
       "'social media'"
      ]
     },
     "execution_count": 23,
     "metadata": {},
     "output_type": "execute_result"
    }
   ],
   "source": [
    "b + c"
   ]
  },
  {
   "cell_type": "code",
   "execution_count": 24,
   "id": "e7a54e19",
   "metadata": {},
   "outputs": [
    {
     "data": {
      "text/plain": [
       "'social'"
      ]
     },
     "execution_count": 24,
     "metadata": {},
     "output_type": "execute_result"
    }
   ],
   "source": [
    "\"social\""
   ]
  },
  {
   "cell_type": "code",
   "execution_count": 25,
   "id": "61a876b9",
   "metadata": {},
   "outputs": [],
   "source": [
    "# f-string\n",
    "year = 2022"
   ]
  },
  {
   "cell_type": "code",
   "execution_count": 27,
   "id": "531105c2",
   "metadata": {},
   "outputs": [
    {
     "data": {
      "text/plain": [
       "'social media 2022'"
      ]
     },
     "execution_count": 27,
     "metadata": {},
     "output_type": "execute_result"
    }
   ],
   "source": [
    "f\"social media {year}\""
   ]
  },
  {
   "cell_type": "code",
   "execution_count": 28,
   "id": "bd3d58d3",
   "metadata": {},
   "outputs": [],
   "source": [
    "# functions\n",
    "def add_space(s1, s2):\n",
    "    s = s1 + \" \" + s2\n",
    "    return s\n",
    "    "
   ]
  },
  {
   "cell_type": "code",
   "execution_count": 29,
   "id": "d0adda40",
   "metadata": {},
   "outputs": [
    {
     "data": {
      "text/plain": [
       "'string1 string2'"
      ]
     },
     "execution_count": 29,
     "metadata": {},
     "output_type": "execute_result"
    }
   ],
   "source": [
    "add_space(\"string1\", \"string2\")"
   ]
  },
  {
   "cell_type": "code",
   "execution_count": 2,
   "id": "0235b679",
   "metadata": {},
   "outputs": [],
   "source": [
    "def add_space2(s1, s2, s3):\n",
    "    s = s1 + \" \" + s2 + \" \" + s3\n",
    "    return s"
   ]
  },
  {
   "cell_type": "code",
   "execution_count": 3,
   "id": "8195e241",
   "metadata": {},
   "outputs": [
    {
     "data": {
      "text/plain": [
       "'Social Media Analytics'"
      ]
     },
     "execution_count": 3,
     "metadata": {},
     "output_type": "execute_result"
    }
   ],
   "source": [
    "add_space2(\"Social\", \"Media\", \"Analytics\")"
   ]
  },
  {
   "cell_type": "code",
   "execution_count": 4,
   "id": "9dce91d2",
   "metadata": {},
   "outputs": [
    {
     "ename": "TypeError",
     "evalue": "add_space2() missing 1 required positional argument: 's3'",
     "output_type": "error",
     "traceback": [
      "\u001b[0;31m---------------------------------------------------------------------------\u001b[0m",
      "\u001b[0;31mTypeError\u001b[0m                                 Traceback (most recent call last)",
      "\u001b[0;32m/var/folders/kr/1zs240g17nl_9nf02dsqzmwc0000gn/T/ipykernel_11403/966835802.py\u001b[0m in \u001b[0;36m<module>\u001b[0;34m\u001b[0m\n\u001b[0;32m----> 1\u001b[0;31m \u001b[0madd_space2\u001b[0m\u001b[0;34m(\u001b[0m\u001b[0;34m\"social\"\u001b[0m\u001b[0;34m,\u001b[0m \u001b[0;34m\"media\"\u001b[0m\u001b[0;34m)\u001b[0m\u001b[0;34m\u001b[0m\u001b[0;34m\u001b[0m\u001b[0m\n\u001b[0m",
      "\u001b[0;31mTypeError\u001b[0m: add_space2() missing 1 required positional argument: 's3'"
     ]
    }
   ],
   "source": [
    "add_space2(\"social\", \"media\")"
   ]
  },
  {
   "cell_type": "code",
   "execution_count": 5,
   "id": "57628c78",
   "metadata": {},
   "outputs": [],
   "source": [
    "# control flow: conditionals\n",
    "def descr_sentiment(score):\n",
    "    if score < 0 :\n",
    "        s = \"negative\"\n",
    "    elif score == 0:\n",
    "        s = \"neutral\"\n",
    "    else:\n",
    "        s = \"positive\"\n",
    "    return s\n",
    "        "
   ]
  },
  {
   "cell_type": "code",
   "execution_count": 6,
   "id": "902d49d6",
   "metadata": {},
   "outputs": [
    {
     "data": {
      "text/plain": [
       "'negative'"
      ]
     },
     "execution_count": 6,
     "metadata": {},
     "output_type": "execute_result"
    }
   ],
   "source": [
    "descr_sentiment(-0.5)"
   ]
  },
  {
   "cell_type": "code",
   "execution_count": 7,
   "id": "55f78347",
   "metadata": {},
   "outputs": [
    {
     "data": {
      "text/plain": [
       "'positive'"
      ]
     },
     "execution_count": 7,
     "metadata": {},
     "output_type": "execute_result"
    }
   ],
   "source": [
    "descr_sentiment(1)"
   ]
  },
  {
   "cell_type": "code",
   "execution_count": 8,
   "id": "a7ba118b",
   "metadata": {},
   "outputs": [
    {
     "data": {
      "text/plain": [
       "'neutral'"
      ]
     },
     "execution_count": 8,
     "metadata": {},
     "output_type": "execute_result"
    }
   ],
   "source": [
    "descr_sentiment(0)"
   ]
  },
  {
   "cell_type": "code",
   "execution_count": null,
   "id": "707d58ce",
   "metadata": {},
   "outputs": [],
   "source": [
    "#TODO write and test a function that returns your name if given \"student\" and course name if given \"course\""
   ]
  },
  {
   "cell_type": "code",
   "execution_count": 61,
   "id": "a8003a40",
   "metadata": {},
   "outputs": [],
   "source": [
    "# controlling the flow: conditionals\n",
    "def describe_sentiment(person):\n",
    "    if person is student:\n",
    "        s = \"Zeyad\"\n",
    "    elif person is student:\n",
    "         s = \"na\"\n",
    "    else:\n",
    "        s = \"Social media analytics\"\n",
    "        "
   ]
  },
  {
   "cell_type": "code",
   "execution_count": 20,
   "id": "666604f5",
   "metadata": {},
   "outputs": [],
   "source": [
    "# work with text\n",
    "s = \"Twitter Facebook Reddit\""
   ]
  },
  {
   "cell_type": "code",
   "execution_count": 21,
   "id": "d55b2693",
   "metadata": {},
   "outputs": [
    {
     "data": {
      "text/plain": [
       "str"
      ]
     },
     "execution_count": 21,
     "metadata": {},
     "output_type": "execute_result"
    }
   ],
   "source": [
    "type(s)"
   ]
  },
  {
   "cell_type": "code",
   "execution_count": 22,
   "id": "540bff27",
   "metadata": {},
   "outputs": [
    {
     "data": {
      "text/plain": [
       "23"
      ]
     },
     "execution_count": 22,
     "metadata": {},
     "output_type": "execute_result"
    }
   ],
   "source": [
    "len(s)"
   ]
  },
  {
   "cell_type": "code",
   "execution_count": 23,
   "id": "6c4bc6c0",
   "metadata": {},
   "outputs": [
    {
     "data": {
      "text/plain": [
       "'twitter facebook reddit'"
      ]
     },
     "execution_count": 23,
     "metadata": {},
     "output_type": "execute_result"
    }
   ],
   "source": [
    "s.lower()"
   ]
  },
  {
   "cell_type": "code",
   "execution_count": 24,
   "id": "42d2d0a8",
   "metadata": {},
   "outputs": [
    {
     "data": {
      "text/plain": [
       "'TWITTER FACEBOOK REDDIT'"
      ]
     },
     "execution_count": 24,
     "metadata": {},
     "output_type": "execute_result"
    }
   ],
   "source": [
    "s.upper()"
   ]
  },
  {
   "cell_type": "code",
   "execution_count": 25,
   "id": "3e5841d5",
   "metadata": {},
   "outputs": [
    {
     "data": {
      "text/plain": [
       "'w'"
      ]
     },
     "execution_count": 25,
     "metadata": {},
     "output_type": "execute_result"
    }
   ],
   "source": [
    "# string is a sequence of characters\n",
    "s[1]"
   ]
  },
  {
   "cell_type": "code",
   "execution_count": 26,
   "id": "0e7b3c7d",
   "metadata": {},
   "outputs": [
    {
     "data": {
      "text/plain": [
       "'T'"
      ]
     },
     "execution_count": 26,
     "metadata": {},
     "output_type": "execute_result"
    }
   ],
   "source": [
    "s[0]"
   ]
  },
  {
   "cell_type": "code",
   "execution_count": 27,
   "id": "0437c665",
   "metadata": {},
   "outputs": [
    {
     "data": {
      "text/plain": [
       "'t'"
      ]
     },
     "execution_count": 27,
     "metadata": {},
     "output_type": "execute_result"
    }
   ],
   "source": [
    "s[len(s)-1]"
   ]
  },
  {
   "cell_type": "code",
   "execution_count": 28,
   "id": "7941dfb6",
   "metadata": {},
   "outputs": [
    {
     "data": {
      "text/plain": [
       "'t'"
      ]
     },
     "execution_count": 28,
     "metadata": {},
     "output_type": "execute_result"
    }
   ],
   "source": [
    "s[-1]"
   ]
  },
  {
   "cell_type": "code",
   "execution_count": 29,
   "id": "d2f5ecdc",
   "metadata": {},
   "outputs": [
    {
     "data": {
      "text/plain": [
       "'d'"
      ]
     },
     "execution_count": 29,
     "metadata": {},
     "output_type": "execute_result"
    }
   ],
   "source": [
    "# second-to-last character\n",
    "s[-3]"
   ]
  },
  {
   "cell_type": "code",
   "execution_count": 30,
   "id": "f7ce4b5a",
   "metadata": {},
   "outputs": [
    {
     "data": {
      "text/plain": [
       "'dit'"
      ]
     },
     "execution_count": 30,
     "metadata": {},
     "output_type": "execute_result"
    }
   ],
   "source": [
    "s[-3:]"
   ]
  },
  {
   "cell_type": "code",
   "execution_count": 31,
   "id": "76a07a18",
   "metadata": {},
   "outputs": [
    {
     "data": {
      "text/plain": [
       "'Twitter Facebook Reddit'"
      ]
     },
     "execution_count": 31,
     "metadata": {},
     "output_type": "execute_result"
    }
   ],
   "source": [
    "s"
   ]
  },
  {
   "cell_type": "code",
   "execution_count": 32,
   "id": "6fee5c6b",
   "metadata": {},
   "outputs": [
    {
     "data": {
      "text/plain": [
       "['Twitter', 'Facebook', 'Reddit']"
      ]
     },
     "execution_count": 32,
     "metadata": {},
     "output_type": "execute_result"
    }
   ],
   "source": [
    "s.split()"
   ]
  },
  {
   "cell_type": "code",
   "execution_count": 35,
   "id": "8ef56caf",
   "metadata": {},
   "outputs": [
    {
     "name": "stdout",
     "output_type": "stream",
     "text": [
      "Social media platform Twitter\n",
      "Social media platform Facebook\n",
      "Social media platform Reddit\n"
     ]
    }
   ],
   "source": [
    "# iterating a collection\n",
    "for pl in s.split():\n",
    "    print(f\"Social media platform {pl}\")"
   ]
  },
  {
   "cell_type": "code",
   "execution_count": 36,
   "id": "1d310f85",
   "metadata": {},
   "outputs": [
    {
     "name": "stdout",
     "output_type": "stream",
     "text": [
      "Twitter.com\n",
      "Facebook.com\n",
      "Reddit.com\n"
     ]
    }
   ],
   "source": [
    "# iterating a collection\n",
    "for pl in s.split():\n",
    "    print(f\"{pl}.com\")"
   ]
  },
  {
   "cell_type": "code",
   "execution_count": 37,
   "id": "a3626261",
   "metadata": {},
   "outputs": [
    {
     "name": "stdout",
     "output_type": "stream",
     "text": [
      "twitter.com\n",
      "facebook.com\n",
      "reddit.com\n"
     ]
    }
   ],
   "source": [
    "for pl in s.split():\n",
    "    print(f\"{pl}.com\".lower())"
   ]
  },
  {
   "cell_type": "code",
   "execution_count": null,
   "id": "a20e6f03",
   "metadata": {},
   "outputs": [],
   "source": []
  }
 ],
 "metadata": {
  "kernelspec": {
   "display_name": "Python 3 (ipykernel)",
   "language": "python",
   "name": "python3"
  },
  "language_info": {
   "codemirror_mode": {
    "name": "ipython",
    "version": 3
   },
   "file_extension": ".py",
   "mimetype": "text/x-python",
   "name": "python",
   "nbconvert_exporter": "python",
   "pygments_lexer": "ipython3",
   "version": "3.9.7"
  },
  "latex_envs": {
   "LaTeX_envs_menu_present": true,
   "autoclose": false,
   "autocomplete": true,
   "bibliofile": "biblio.bib",
   "cite_by": "apalike",
   "current_citInitial": 1,
   "eqLabelWithNumbers": true,
   "eqNumInitial": 1,
   "hotkeys": {
    "equation": "Ctrl-E",
    "itemize": "Ctrl-I"
   },
   "labels_anchors": false,
   "latex_user_defs": false,
   "report_style_numbering": false,
   "user_envs_cfg": false
  },
  "toc": {
   "base_numbering": 1,
   "nav_menu": {},
   "number_sections": true,
   "sideBar": true,
   "skip_h1_title": false,
   "title_cell": "Table of Contents",
   "title_sidebar": "Contents",
   "toc_cell": false,
   "toc_position": {},
   "toc_section_display": true,
   "toc_window_display": false
  },
  "varInspector": {
   "cols": {
    "lenName": 16,
    "lenType": 16,
    "lenVar": 40
   },
   "kernels_config": {
    "python": {
     "delete_cmd_postfix": "",
     "delete_cmd_prefix": "del ",
     "library": "var_list.py",
     "varRefreshCmd": "print(var_dic_list())"
    },
    "r": {
     "delete_cmd_postfix": ") ",
     "delete_cmd_prefix": "rm(",
     "library": "var_list.r",
     "varRefreshCmd": "cat(var_dic_list()) "
    }
   },
   "types_to_exclude": [
    "module",
    "function",
    "builtin_function_or_method",
    "instance",
    "_Feature"
   ],
   "window_display": false
  }
 },
 "nbformat": 4,
 "nbformat_minor": 5
}
