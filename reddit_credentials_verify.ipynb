{
 "cells": [
  {
   "cell_type": "code",
   "execution_count": 1,
   "id": "c824725f",
   "metadata": {},
   "outputs": [
    {
     "name": "stdout",
     "output_type": "stream",
     "text": [
      "Collecting package metadata (current_repodata.json): done\n",
      "Solving environment: done\n",
      "\n",
      "# All requested packages already installed.\n",
      "\n"
     ]
    }
   ],
   "source": [
    "# Alternatively, right here in the notebook (uncomment the next two lines and run):\n",
    "import sys\n",
    "!conda install -c conda-forge --yes --prefix {sys.prefix} tweepy wordcloud\n"
   ]
  },
  {
   "cell_type": "code",
   "execution_count": 2,
   "id": "76cbe48a",
   "metadata": {},
   "outputs": [],
   "source": [
    "# Save \"config_reddit.py\" file in your working folder:\n",
    "#  https://raw.githubusercontent.com/multidis/hult-social-media-analytics/main/task_reddit/config_reddit.py\n",
    "# (you can also download this file from the course modules)\n",
    "# and edit the values (put your own credentials in that file).\n",
    "#\n",
    "# Collect your Reddit access credentials as described in the course module,\n",
    "#  \"Setting up Reddit API access\" page\n",
    "#\n",
    "# Edit \"config_reddit.py\" entering your information in the respective assignment statements (instead of \"todo\").\n",
    "# Then proceed with the cells below.\n",
    "\n"
   ]
  },
  {
   "cell_type": "code",
   "execution_count": 5,
   "id": "05623a66",
   "metadata": {},
   "outputs": [],
   "source": [
    "import praw\n",
    "import config_reddit"
   ]
  },
  {
   "cell_type": "code",
   "execution_count": 6,
   "id": "a53191d9",
   "metadata": {},
   "outputs": [],
   "source": [
    "# establish an API connection\n",
    "reddit = praw.Reddit(user_agent=f\"Exploration script by /u/{config_reddit.user_name}\",\n",
    "                     client_id=config_reddit.app_id,\n",
    "                     client_secret=config_reddit.app_secret)"
   ]
  },
  {
   "cell_type": "code",
   "execution_count": 7,
   "id": "7f2c1029",
   "metadata": {},
   "outputs": [
    {
     "data": {
      "text/plain": [
       "True"
      ]
     },
     "execution_count": 7,
     "metadata": {},
     "output_type": "execute_result"
    }
   ],
   "source": [
    "# returns True for read-only connection, if everything is configured correctly\n",
    "reddit.read_only"
   ]
  },
  {
   "cell_type": "code",
   "execution_count": null,
   "id": "f174e522",
   "metadata": {},
   "outputs": [],
   "source": []
  }
 ],
 "metadata": {
  "kernelspec": {
   "display_name": "Python 3 (ipykernel)",
   "language": "python",
   "name": "python3"
  },
  "language_info": {
   "codemirror_mode": {
    "name": "ipython",
    "version": 3
   },
   "file_extension": ".py",
   "mimetype": "text/x-python",
   "name": "python",
   "nbconvert_exporter": "python",
   "pygments_lexer": "ipython3",
   "version": "3.9.7"
  },
  "latex_envs": {
   "LaTeX_envs_menu_present": true,
   "autoclose": false,
   "autocomplete": true,
   "bibliofile": "biblio.bib",
   "cite_by": "apalike",
   "current_citInitial": 1,
   "eqLabelWithNumbers": true,
   "eqNumInitial": 1,
   "hotkeys": {
    "equation": "Ctrl-E",
    "itemize": "Ctrl-I"
   },
   "labels_anchors": false,
   "latex_user_defs": false,
   "report_style_numbering": false,
   "user_envs_cfg": false
  },
  "toc": {
   "base_numbering": 1,
   "nav_menu": {},
   "number_sections": true,
   "sideBar": true,
   "skip_h1_title": false,
   "title_cell": "Table of Contents",
   "title_sidebar": "Contents",
   "toc_cell": false,
   "toc_position": {},
   "toc_section_display": true,
   "toc_window_display": false
  },
  "varInspector": {
   "cols": {
    "lenName": 16,
    "lenType": 16,
    "lenVar": 40
   },
   "kernels_config": {
    "python": {
     "delete_cmd_postfix": "",
     "delete_cmd_prefix": "del ",
     "library": "var_list.py",
     "varRefreshCmd": "print(var_dic_list())"
    },
    "r": {
     "delete_cmd_postfix": ") ",
     "delete_cmd_prefix": "rm(",
     "library": "var_list.r",
     "varRefreshCmd": "cat(var_dic_list()) "
    }
   },
   "types_to_exclude": [
    "module",
    "function",
    "builtin_function_or_method",
    "instance",
    "_Feature"
   ],
   "window_display": false
  }
 },
 "nbformat": 4,
 "nbformat_minor": 5
}
