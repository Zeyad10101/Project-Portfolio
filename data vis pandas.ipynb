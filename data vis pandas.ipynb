{
 "cells": [
  {
   "cell_type": "markdown",
   "metadata": {},
   "source": [
    "\n",
    "\n",
    "# Welcome to the Pandas Exercise Notebook \n",
    "\n",
    "**You're opportunity to apply what you we have learned in class and to indepedently work with data. In this exercise notebook you are expected to import, inspect, handle, and analyze data. You are also expected to annotate / provide comments about each step you are taking using the # or markdown option**\n"
   ]
  },
  {
   "cell_type": "code",
   "execution_count": null,
   "metadata": {},
   "outputs": [],
   "source": [
    "# Important first step to initialize the libraries\n"
   ]
  },
  {
   "cell_type": "markdown",
   "metadata": {},
   "source": [
    "# Import Data\n",
    "**Instantiate the diamonds data file 'salaries.csv' in this jupytrer notebook**"
   ]
  },
  {
   "cell_type": "code",
   "execution_count": 7,
   "metadata": {},
   "outputs": [
    {
     "data": {
      "text/html": [
       "<div>\n",
       "<style scoped>\n",
       "    .dataframe tbody tr th:only-of-type {\n",
       "        vertical-align: middle;\n",
       "    }\n",
       "\n",
       "    .dataframe tbody tr th {\n",
       "        vertical-align: top;\n",
       "    }\n",
       "\n",
       "    .dataframe thead th {\n",
       "        text-align: right;\n",
       "    }\n",
       "</style>\n",
       "<table border=\"1\" class=\"dataframe\">\n",
       "  <thead>\n",
       "    <tr style=\"text-align: right;\">\n",
       "      <th></th>\n",
       "      <th>Obs</th>\n",
       "      <th>carat</th>\n",
       "      <th>color</th>\n",
       "      <th>clarity</th>\n",
       "      <th>cut</th>\n",
       "      <th>channel</th>\n",
       "      <th>store</th>\n",
       "      <th>price</th>\n",
       "    </tr>\n",
       "  </thead>\n",
       "  <tbody>\n",
       "    <tr>\n",
       "      <th>0</th>\n",
       "      <td>1</td>\n",
       "      <td>0.32</td>\n",
       "      <td>3.0</td>\n",
       "      <td>7.0</td>\n",
       "      <td>0.0</td>\n",
       "      <td>0</td>\n",
       "      <td>7</td>\n",
       "      <td>1375</td>\n",
       "    </tr>\n",
       "    <tr>\n",
       "      <th>1</th>\n",
       "      <td>2</td>\n",
       "      <td>0.35</td>\n",
       "      <td>5.0</td>\n",
       "      <td>7.0</td>\n",
       "      <td>1.0</td>\n",
       "      <td>0</td>\n",
       "      <td>7</td>\n",
       "      <td>1680</td>\n",
       "    </tr>\n",
       "    <tr>\n",
       "      <th>2</th>\n",
       "      <td>3</td>\n",
       "      <td>0.40</td>\n",
       "      <td>4.0</td>\n",
       "      <td>7.0</td>\n",
       "      <td>1.0</td>\n",
       "      <td>0</td>\n",
       "      <td>7</td>\n",
       "      <td>2245</td>\n",
       "    </tr>\n",
       "    <tr>\n",
       "      <th>3</th>\n",
       "      <td>4</td>\n",
       "      <td>0.59</td>\n",
       "      <td>5.0</td>\n",
       "      <td>7.0</td>\n",
       "      <td>0.0</td>\n",
       "      <td>0</td>\n",
       "      <td>3</td>\n",
       "      <td>2495</td>\n",
       "    </tr>\n",
       "    <tr>\n",
       "      <th>4</th>\n",
       "      <td>5</td>\n",
       "      <td>0.72</td>\n",
       "      <td>7.0</td>\n",
       "      <td>8.0</td>\n",
       "      <td>0.0</td>\n",
       "      <td>0</td>\n",
       "      <td>8</td>\n",
       "      <td>2699</td>\n",
       "    </tr>\n",
       "  </tbody>\n",
       "</table>\n",
       "</div>"
      ],
      "text/plain": [
       "  Obs  carat  color  clarity  cut channel store  price\n",
       "0   1   0.32    3.0      7.0  0.0       0     7   1375\n",
       "1   2   0.35    5.0      7.0  1.0       0     7   1680\n",
       "2   3   0.40    4.0      7.0  1.0       0     7   2245\n",
       "3   4   0.59    5.0      7.0  0.0       0     3   2495\n",
       "4   5   0.72    7.0      8.0  0.0       0     8   2699"
      ]
     },
     "execution_count": 7,
     "metadata": {},
     "output_type": "execute_result"
    }
   ],
   "source": [
    "#Read csv file from a directory on your computer\n",
    "import pandas as pd # data science essentials\n",
    "import matplotlib.pyplot as plt # NEW: data visualization essentials\n",
    "import seaborn as sns # NEW: enhanced data visualization\n",
    "\n",
    "\n",
    "# converting data types with a dictionary\n",
    "data_types = {\"Obs\"     : str,\n",
    "              \"channel\" : str,\n",
    "              \"store\"   : str}\n",
    "\n",
    "\n",
    "# specifying a file (must specify path to datasets folder)\n",
    "file = './diamonds_missing_values.xlsx'\n",
    "\n",
    "\n",
    "# reading the file into Python through pandas\n",
    "diamonds = pd.read_excel(io         = file,\n",
    "                         sheet_name = 'missing_diamonds',\n",
    "                         header     = 0,\n",
    "                         dtype      = data_types)\n",
    "\n",
    "\n",
    "# checking the first 5 rows of the dataset\n",
    "diamonds.head(n = 5)\n"
   ]
  },
  {
   "cell_type": "code",
   "execution_count": null,
   "metadata": {},
   "outputs": [],
   "source": []
  },
  {
   "cell_type": "code",
   "execution_count": 8,
   "metadata": {},
   "outputs": [
    {
     "name": "stdout",
     "output_type": "stream",
     "text": [
      "<class 'pandas.core.frame.DataFrame'>\n",
      "RangeIndex: 409 entries, 0 to 408\n",
      "Data columns (total 8 columns):\n",
      " #   Column   Non-Null Count  Dtype  \n",
      "---  ------   --------------  -----  \n",
      " 0   Obs      409 non-null    object \n",
      " 1   carat    400 non-null    float64\n",
      " 2   color    396 non-null    float64\n",
      " 3   clarity  402 non-null    float64\n",
      " 4   cut      399 non-null    float64\n",
      " 5   channel  409 non-null    object \n",
      " 6   store    409 non-null    object \n",
      " 7   price    409 non-null    int64  \n",
      "dtypes: float64(4), int64(1), object(3)\n",
      "memory usage: 25.7+ KB\n"
     ]
    }
   ],
   "source": [
    "diamonds.info()"
   ]
  },
  {
   "cell_type": "markdown",
   "metadata": {},
   "source": [
    "# Inspect Data\n",
    "**Inspect your data using .head, .tail, .describe, .info**"
   ]
  },
  {
   "cell_type": "code",
   "execution_count": null,
   "metadata": {},
   "outputs": [],
   "source": [
    "# Display the first 15 records\n"
   ]
  },
  {
   "cell_type": "code",
   "execution_count": null,
   "metadata": {},
   "outputs": [],
   "source": [
    "# Display the last 15 records\n"
   ]
  },
  {
   "cell_type": "code",
   "execution_count": null,
   "metadata": {},
   "outputs": [],
   "source": [
    "# Display the info\n"
   ]
  },
  {
   "cell_type": "code",
   "execution_count": null,
   "metadata": {},
   "outputs": [],
   "source": [
    "# Check the dtype of a column \"salary\"\n"
   ]
  },
  {
   "cell_type": "code",
   "execution_count": null,
   "metadata": {},
   "outputs": [],
   "source": [
    "# Investigate the shape of the dataset\n"
   ]
  },
  {
   "cell_type": "code",
   "execution_count": null,
   "metadata": {},
   "outputs": [],
   "source": [
    "# Display basic statistics only for the PhD column\n"
   ]
  },
  {
   "cell_type": "code",
   "execution_count": null,
   "metadata": {},
   "outputs": [],
   "source": [
    "# Display on the non-numercal basic statistics\n"
   ]
  },
  {
   "cell_type": "code",
   "execution_count": null,
   "metadata": {},
   "outputs": [],
   "source": [
    "# Display basic statistics with the values rounded to 2 decimals\n"
   ]
  },
  {
   "cell_type": "markdown",
   "metadata": {},
   "source": [
    "# Sort Data\n",
    "\n",
    "**sort you data by choosing a column, then choosing multiple columns, then using .loc and .iloc, and finally groupby**"
   ]
  },
  {
   "cell_type": "code",
   "execution_count": null,
   "metadata": {},
   "outputs": [],
   "source": [
    "# Select the Discipline column\n"
   ]
  },
  {
   "cell_type": "code",
   "execution_count": null,
   "metadata": {},
   "outputs": [],
   "source": [
    "# Select the phd column and sex column and sort descending\n"
   ]
  },
  {
   "cell_type": "code",
   "execution_count": null,
   "metadata": {},
   "outputs": [],
   "source": [
    "# Select only female professors from the dataset with a salary of >= 100K\n"
   ]
  },
  {
   "cell_type": "code",
   "execution_count": null,
   "metadata": {},
   "outputs": [],
   "source": [
    "# Select observation with the value in the salary column > 120K\n"
   ]
  },
  {
   "cell_type": "code",
   "execution_count": null,
   "metadata": {},
   "outputs": [],
   "source": [
    "# select rows 10 to 25 of the 'sex' column using .loc[] and save it under 'male'\n"
   ]
  },
  {
   "cell_type": "code",
   "execution_count": null,
   "metadata": {},
   "outputs": [],
   "source": [
    "# select rows 10 to 25 of the 'sex' column using .iloc[] and save it under 'male'\n"
   ]
  },
  {
   "cell_type": "code",
   "execution_count": null,
   "metadata": {},
   "outputs": [],
   "source": [
    "# Group data by 'rank' and 'sex'\n"
   ]
  },
  {
   "cell_type": "markdown",
   "metadata": {},
   "source": [
    "# Find & deal with missing values\n",
    "\n",
    "**you will be given a new dataset! Find the missing values and provide a strategy on how to deal with missing values**"
   ]
  },
  {
   "cell_type": "code",
   "execution_count": null,
   "metadata": {},
   "outputs": [],
   "source": [
    "# Important first step to initialize the libraries\n"
   ]
  },
  {
   "cell_type": "code",
   "execution_count": 15,
   "metadata": {},
   "outputs": [
    {
     "name": "stdout",
     "output_type": "stream",
     "text": [
      "C:\\Users\\lenovo c740\\Desktop\\python\n",
      "C:\\Users\\lenovo c740\\Desktop\\python\n"
     ]
    }
   ],
   "source": [
    "#Read excel file from your computer\n",
    "\n",
    "import os\n",
    "\n",
    "print (os.getcwd())\n",
    "\n",
    "\n",
    "os.chdir(r'C:\\Users\\lenovo c740\\Desktop\\Python')\n",
    "print (os.getcwd())\n",
    "\n"
   ]
  },
  {
   "cell_type": "code",
   "execution_count": 18,
   "metadata": {},
   "outputs": [
    {
     "data": {
      "text/html": [
       "<div>\n",
       "<style scoped>\n",
       "    .dataframe tbody tr th:only-of-type {\n",
       "        vertical-align: middle;\n",
       "    }\n",
       "\n",
       "    .dataframe tbody tr th {\n",
       "        vertical-align: top;\n",
       "    }\n",
       "\n",
       "    .dataframe thead th {\n",
       "        text-align: right;\n",
       "    }\n",
       "</style>\n",
       "<table border=\"1\" class=\"dataframe\">\n",
       "  <thead>\n",
       "    <tr style=\"text-align: right;\">\n",
       "      <th></th>\n",
       "      <th>Obs</th>\n",
       "      <th>carat</th>\n",
       "      <th>color</th>\n",
       "      <th>clarity</th>\n",
       "      <th>cut</th>\n",
       "      <th>channel</th>\n",
       "      <th>store</th>\n",
       "      <th>price</th>\n",
       "    </tr>\n",
       "  </thead>\n",
       "  <tbody>\n",
       "    <tr>\n",
       "      <th>0</th>\n",
       "      <td>1</td>\n",
       "      <td>0.32</td>\n",
       "      <td>3.0</td>\n",
       "      <td>7.0</td>\n",
       "      <td>0.0</td>\n",
       "      <td>0</td>\n",
       "      <td>7</td>\n",
       "      <td>1375</td>\n",
       "    </tr>\n",
       "    <tr>\n",
       "      <th>1</th>\n",
       "      <td>2</td>\n",
       "      <td>0.35</td>\n",
       "      <td>5.0</td>\n",
       "      <td>7.0</td>\n",
       "      <td>1.0</td>\n",
       "      <td>0</td>\n",
       "      <td>7</td>\n",
       "      <td>1680</td>\n",
       "    </tr>\n",
       "    <tr>\n",
       "      <th>2</th>\n",
       "      <td>3</td>\n",
       "      <td>0.40</td>\n",
       "      <td>4.0</td>\n",
       "      <td>7.0</td>\n",
       "      <td>1.0</td>\n",
       "      <td>0</td>\n",
       "      <td>7</td>\n",
       "      <td>2245</td>\n",
       "    </tr>\n",
       "    <tr>\n",
       "      <th>3</th>\n",
       "      <td>4</td>\n",
       "      <td>0.59</td>\n",
       "      <td>5.0</td>\n",
       "      <td>7.0</td>\n",
       "      <td>0.0</td>\n",
       "      <td>0</td>\n",
       "      <td>3</td>\n",
       "      <td>2495</td>\n",
       "    </tr>\n",
       "    <tr>\n",
       "      <th>4</th>\n",
       "      <td>5</td>\n",
       "      <td>0.72</td>\n",
       "      <td>7.0</td>\n",
       "      <td>8.0</td>\n",
       "      <td>0.0</td>\n",
       "      <td>0</td>\n",
       "      <td>8</td>\n",
       "      <td>2699</td>\n",
       "    </tr>\n",
       "  </tbody>\n",
       "</table>\n",
       "</div>"
      ],
      "text/plain": [
       "  Obs  carat  color  clarity  cut channel store  price\n",
       "0   1   0.32    3.0      7.0  0.0       0     7   1375\n",
       "1   2   0.35    5.0      7.0  1.0       0     7   1680\n",
       "2   3   0.40    4.0      7.0  1.0       0     7   2245\n",
       "3   4   0.59    5.0      7.0  0.0       0     3   2495\n",
       "4   5   0.72    7.0      8.0  0.0       0     8   2699"
      ]
     },
     "execution_count": 18,
     "metadata": {},
     "output_type": "execute_result"
    }
   ],
   "source": [
    "\n",
    "import pandas as pd # data science essentials\n",
    "import matplotlib.pyplot as plt # NEW: data visualization essentials\n",
    "import seaborn as sns # NEW: enhanced data visualization\n",
    "\n",
    "\n",
    "# converting data types with a dictionary\n",
    "data_types = {\"Obs\"     : str,\n",
    "              \"channel\" : str,\n",
    "              \"store\"   : str}\n",
    "\n",
    "\n",
    "# specifying a file (must specify path to datasets folder)\n",
    "file = './diamonds_missing_values.xlsx'\n",
    "\n",
    "\n",
    "# reading the file into Python through pandas\n",
    "diamonds = pd.read_excel(io         = file,\n",
    "                         sheet_name = 'missing_diamonds',\n",
    "                         header     = 0,\n",
    "                         dtype      = data_types)\n",
    "\n",
    "\n",
    "# checking the first 5 rows of the dataset\n",
    "diamonds.head(n = 5)\n",
    "\n"
   ]
  },
  {
   "cell_type": "code",
   "execution_count": 19,
   "metadata": {},
   "outputs": [
    {
     "name": "stdout",
     "output_type": "stream",
     "text": [
      "<class 'pandas.core.frame.DataFrame'>\n",
      "RangeIndex: 409 entries, 0 to 408\n",
      "Data columns (total 8 columns):\n",
      " #   Column   Non-Null Count  Dtype  \n",
      "---  ------   --------------  -----  \n",
      " 0   Obs      409 non-null    object \n",
      " 1   carat    400 non-null    float64\n",
      " 2   color    396 non-null    float64\n",
      " 3   clarity  402 non-null    float64\n",
      " 4   cut      399 non-null    float64\n",
      " 5   channel  409 non-null    object \n",
      " 6   store    409 non-null    object \n",
      " 7   price    409 non-null    int64  \n",
      "dtypes: float64(4), int64(1), object(3)\n",
      "memory usage: 25.7+ KB\n"
     ]
    }
   ],
   "source": [
    "diamonds.info()"
   ]
  },
  {
   "cell_type": "markdown",
   "metadata": {},
   "source": [
    "## Dealing with missing values\n",
    "\n",
    "There are many ways to deal with missing values. One way is to delete the missing values, however this should only be a last resort (e.g. if too many values in a column are missing). \n",
    "\n",
    "<hr style=\"height:.9px;border:none;color:#333;background-color:#333;\" />\n",
    "<br>\n",
    "<h3>The Rare Event Rule</h3><br>\n",
    "The rare event rule is a statistical heuristic that can be summed up as follows:\n",
    "<br><br><br>\n",
    "<div align=\"center\"><strong>\n",
    "    If a phenomenon occurs less than 5% of the time, it is considered rare and is unlikely to occur.\n",
    "    </strong><a class=\"tocSkip\"></a></div><br><br>\n",
    "In terms of missing values, this rule is often interpreted as:\n",
    "<br><br><br>\n",
    "<div align=\"center\"><strong>\n",
    "    If missing values affect less than 5% of observations, then they are not a problem worthy of heavy focus in our analysis.\n",
    "    </strong><a class=\"tocSkip\"></a></div><br><br>\n",
    "In other words, if missing values are rare, then we can likely remove them or use a simple method to fill in their values without significantly affecting the overall distribution of each feature. Before moving forward, <strong><font style=\"color:red\">note that this is a dangerous heuristic that we will not be following.</font></strong> This is primarily driven by two factors:\n",
    "\n",
    "1. The heuristic used above can be misleading in terms of the actual number of observations being affected by missing values.\n",
    "2. Tremendous value can be generated from missing values, not only in terms of domain knowledge, but also in terms of prediction.\n",
    "\n",
    "<br>\n",
    "To begin exploring this, let's flag each data point where a missing value is present.\n",
    "\n",
    "\n",
    "\n",
    "To drop values you can use the df.dropna() function. axis = 0 for rows and axis = 1 for columns.\n",
    "\n",
    "\n",
    "\n"
   ]
  },
  {
   "cell_type": "code",
   "execution_count": 17,
   "metadata": {},
   "outputs": [
    {
     "name": "stdout",
     "output_type": "stream",
     "text": [
      "Obs        False\n",
      "carat       True\n",
      "color       True\n",
      "clarity     True\n",
      "cut         True\n",
      "channel    False\n",
      "store      False\n",
      "price      False\n",
      "dtype: bool\n"
     ]
    }
   ],
   "source": [
    "# check if it is true or not if you have any missing values\n",
    "\n",
    "print(diamonds.isnull().any(axis = 0))"
   ]
  },
  {
   "cell_type": "code",
   "execution_count": 13,
   "metadata": {},
   "outputs": [
    {
     "name": "stdout",
     "output_type": "stream",
     "text": [
      "Obs        False\n",
      "carat       True\n",
      "color       True\n",
      "clarity     True\n",
      "cut         True\n",
      "channel    False\n",
      "store      False\n",
      "price      False\n",
      "dtype: bool\n"
     ]
    }
   ],
   "source": [
    "# Method chaining - Identify where there are missing values\n",
    "\n",
    "print(diamonds.isnull().any(axis = 0))\n"
   ]
  },
  {
   "cell_type": "code",
   "execution_count": 14,
   "metadata": {},
   "outputs": [
    {
     "name": "stdout",
     "output_type": "stream",
     "text": [
      "Obs         0\n",
      "carat       9\n",
      "color      13\n",
      "clarity     7\n",
      "cut        10\n",
      "channel     0\n",
      "store       0\n",
      "price       0\n",
      "dtype: int64\n"
     ]
    }
   ],
   "source": [
    "# Method chaining - calculate how many missing values per column\n",
    "\n",
    "print(diamonds.isnull().sum(axis = 0))"
   ]
  },
  {
   "cell_type": "markdown",
   "metadata": {},
   "source": [
    "## Visualize the ditribution of each columne with missing values"
   ]
  },
  {
   "cell_type": "code",
   "execution_count": 23,
   "metadata": {},
   "outputs": [],
   "source": [
    "# Important first step is to initialize visualization libraries\n",
    "import seaborn as sns \n",
    "import matplotlib.pyplot as plt "
   ]
  },
  {
   "cell_type": "code",
   "execution_count": 27,
   "metadata": {},
   "outputs": [
    {
     "data": {
      "image/png": "[encoded data removed]",
      "text/plain": [
       "<Figure size 432x288 with 1 Axes>"
      ]
     },
     "metadata": {
      "needs_background": "light"
     },
     "output_type": "display_data"
    }
   ],
   "source": [
    "# histogram for carat\n",
    "sns.histplot(data  = diamonds,\n",
    "             x     ='carat',\n",
    "             bins  = 'fd',\n",
    "             kde   = False,\n",
    "             color = 'red')\n",
    "\n",
    "\n",
    "# this adds a title\n",
    "plt.title(label = \"Distribution of Carat Weight\")\n",
    "\n",
    "\n",
    "# this adds an x-label\n",
    "plt.xlabel(xlabel = 'Carat Weight')\n",
    "\n",
    "\n",
    "# this add a y-label\n",
    "plt.ylabel(ylabel = 'Frequency')\n",
    "\n",
    "\n",
    "# these compile and display the plot so that it is formatted as expected\n",
    "plt.tight_layout()\n",
    "plt.show()"
   ]
  },
  {
   "cell_type": "code",
   "execution_count": 28,
   "metadata": {},
   "outputs": [
    {
     "data": {
      "image/png": "[encoded data removed]",
      "text/plain": [
       "<Figure size 432x288 with 1 Axes>"
      ]
     },
     "metadata": {
      "needs_background": "light"
     },
     "output_type": "display_data"
    }
   ],
   "source": [
    "# Histplot for df['color']\n",
    "sns.histplot(data  = diamonds,\n",
    "             x     ='color',\n",
    "             bins  = 'fd',\n",
    "             kde   = False,\n",
    "             color = 'red')\n",
    "\n",
    "# this adds a title\n",
    "plt.title(label = \"Distribution of color Weight\")\n",
    "\n",
    "\n",
    "# this adds an x-label\n",
    "plt.xlabel(xlabel = 'Color Weight')\n",
    "\n",
    "\n",
    "# this add a y-label\n",
    "plt.ylabel(ylabel = 'Frequency')\n",
    "\n",
    "\n",
    "# these compile and display the plot so that it is formatted as expected\n",
    "plt.tight_layout()\n",
    "plt.show()\n"
   ]
  },
  {
   "cell_type": "code",
   "execution_count": 29,
   "metadata": {},
   "outputs": [
    {
     "data": {
      "image/png": "[encoded data removed]",
      "text/plain": [
       "<Figure size 432x288 with 1 Axes>"
      ]
     },
     "metadata": {
      "needs_background": "light"
     },
     "output_type": "display_data"
    }
   ],
   "source": [
    "# Histplot for df['clarity']\n",
    "sns.histplot(data  = diamonds,\n",
    "             x     ='clarity',\n",
    "             bins  = 'fd',\n",
    "             kde   = False,\n",
    "             color = 'red')\n",
    "\n",
    "# this adds a title\n",
    "plt.title(label = \"Distribution of clarity Weight\")\n",
    "\n",
    "\n",
    "# this adds an x-label\n",
    "plt.xlabel(xlabel = 'clarity Weight')\n",
    "\n",
    "\n",
    "# this add a y-label\n",
    "plt.ylabel(ylabel = 'Frequency')\n",
    "\n",
    "\n",
    "# these compile and display the plot so that it is formatted as expected\n",
    "plt.tight_layout()\n",
    "plt.show()"
   ]
  },
  {
   "cell_type": "code",
   "execution_count": 30,
   "metadata": {},
   "outputs": [
    {
     "data": {
      "image/png": "[encoded data removed]",
      "text/plain": [
       "<Figure size 432x288 with 1 Axes>"
      ]
     },
     "metadata": {
      "needs_background": "light"
     },
     "output_type": "display_data"
    }
   ],
   "source": [
    "# Histplot for df['cut']\n",
    "sns.histplot(data  = diamonds,\n",
    "             x     ='cut',\n",
    "             bins  = 'fd',\n",
    "             kde   = False,\n",
    "             color = 'red')\n",
    "\n",
    "# this adds a title\n",
    "plt.title(label = \"Distribution of cut Weight\")\n",
    "\n",
    "\n",
    "# this adds an x-label\n",
    "plt.xlabel(xlabel = 'cut Weight')\n",
    "\n",
    "\n",
    "# this add a y-label\n",
    "plt.ylabel(ylabel = 'Frequency')\n",
    "\n",
    "\n",
    "# these compile and display the plot so that it is formatted as expected\n",
    "plt.tight_layout()\n",
    "plt.show()"
   ]
  },
  {
   "cell_type": "code",
   "execution_count": 22,
   "metadata": {},
   "outputs": [
    {
     "data": {
      "text/html": [
       "<div>\n",
       "<style scoped>\n",
       "    .dataframe tbody tr th:only-of-type {\n",
       "        vertical-align: middle;\n",
       "    }\n",
       "\n",
       "    .dataframe tbody tr th {\n",
       "        vertical-align: top;\n",
       "    }\n",
       "\n",
       "    .dataframe thead th {\n",
       "        text-align: right;\n",
       "    }\n",
       "</style>\n",
       "<table border=\"1\" class=\"dataframe\">\n",
       "  <thead>\n",
       "    <tr style=\"text-align: right;\">\n",
       "      <th></th>\n",
       "      <th>column_name</th>\n",
       "      <th>percent_missing</th>\n",
       "    </tr>\n",
       "  </thead>\n",
       "  <tbody>\n",
       "    <tr>\n",
       "      <th>Obs</th>\n",
       "      <td>Obs</td>\n",
       "      <td>0.000000</td>\n",
       "    </tr>\n",
       "    <tr>\n",
       "      <th>carat</th>\n",
       "      <td>carat</td>\n",
       "      <td>2.200489</td>\n",
       "    </tr>\n",
       "    <tr>\n",
       "      <th>color</th>\n",
       "      <td>color</td>\n",
       "      <td>3.178484</td>\n",
       "    </tr>\n",
       "    <tr>\n",
       "      <th>clarity</th>\n",
       "      <td>clarity</td>\n",
       "      <td>1.711491</td>\n",
       "    </tr>\n",
       "    <tr>\n",
       "      <th>cut</th>\n",
       "      <td>cut</td>\n",
       "      <td>2.444988</td>\n",
       "    </tr>\n",
       "    <tr>\n",
       "      <th>channel</th>\n",
       "      <td>channel</td>\n",
       "      <td>0.000000</td>\n",
       "    </tr>\n",
       "    <tr>\n",
       "      <th>store</th>\n",
       "      <td>store</td>\n",
       "      <td>0.000000</td>\n",
       "    </tr>\n",
       "    <tr>\n",
       "      <th>price</th>\n",
       "      <td>price</td>\n",
       "      <td>0.000000</td>\n",
       "    </tr>\n",
       "  </tbody>\n",
       "</table>\n",
       "</div>"
      ],
      "text/plain": [
       "        column_name  percent_missing\n",
       "Obs             Obs         0.000000\n",
       "carat         carat         2.200489\n",
       "color         color         3.178484\n",
       "clarity     clarity         1.711491\n",
       "cut             cut         2.444988\n",
       "channel     channel         0.000000\n",
       "store         store         0.000000\n",
       "price         price         0.000000"
      ]
     },
     "execution_count": 22,
     "metadata": {},
     "output_type": "execute_result"
    }
   ],
   "source": [
    "# Calculate percentage missing values\n",
    "\n",
    "percent_missing = diamonds.isnull().sum() * 100 / len(diamonds)\n",
    "missing_value_df = pd.DataFrame({'column_name': diamonds.columns,\n",
    "                                 'percent_missing': percent_missing})\n",
    "missing_value_df"
   ]
  },
  {
   "cell_type": "code",
   "execution_count": 32,
   "metadata": {},
   "outputs": [
    {
     "name": "stdout",
     "output_type": "stream",
     "text": [
      "Obs        0.000000\n",
      "carat      0.022005\n",
      "color      0.031785\n",
      "clarity    0.017115\n",
      "cut        0.024450\n",
      "channel    0.000000\n",
      "store      0.000000\n",
      "price      0.000000\n",
      "dtype: float64\n"
     ]
    }
   ],
   "source": [
    "print(diamonds.isnull().mean(axis = 0))"
   ]
  },
  {
   "cell_type": "markdown",
   "metadata": {},
   "source": [
    "## Missing Value Strategy"
   ]
  },
  {
   "cell_type": "code",
   "execution_count": null,
   "metadata": {},
   "outputs": [],
   "source": [
    "# if you want to drop values you can use the following code (but as we can see\n",
    "# see in the above exercise the percentage is >5% so we have to transform them)\n",
    "\n",
    "# First make a copy of your existing dataset. Then drop the values and then check \n",
    "# if you succeeded in dropping the missing values.\n",
    "\n",
    "# Step 1: the following code makes the new DataFrame independent\n",
    "#df_dropped = pd.DataFrame.copy(mydata)\n",
    "#df_drop = pd.DataFrame.copy(mydata.cut) # for a specific column\n",
    "\n",
    "# Step 2: using dropna() for df_dropped\n",
    "#df_dropped = df_dropped.dropna().round(2)\n",
    "\n",
    "\n",
    "# Step 3: checking to see if all missing values have been dropped\n",
    "#print(df_dropped.isnull().sum())\n",
    "# Check distirbution via a plot to see the impact of your drop strategy"
   ]
  },
  {
   "cell_type": "markdown",
   "metadata": {},
   "source": [
    "The above strategy is an overall strategy to delete values in its totality. You can also choose to do it per column.\n",
    "\n",
    "Another way to deal with missing values is by using the mean, median, or mode of the columns and using the to replace the missing values. Your strategy depends on what is happening with your data.  You will need inspect each column with missing values to decide on a specific strategy. Make a missing value strategy based on the histograms above of the 4 columsn with missing values"
   ]
  },
  {
   "cell_type": "code",
   "execution_count": 42,
   "metadata": {},
   "outputs": [
    {
     "data": {
      "image/png": "[encoded data removed]",
      "text/plain": [
       "<Figure size 432x288 with 1 Axes>"
      ]
     },
     "metadata": {
      "needs_background": "light"
     },
     "output_type": "display_data"
    }
   ],
   "source": [
    "# Fill in the missing value strategy for carat in the xxxx space\n",
    "## print again a histogram\n",
    "df_dropped = pd.DataFrame.copy(diamonds)\n",
    "df_dropped = pd.DataFrame.copy(diamonds.carat)\\\n",
    "\n",
    "\n",
    "\n",
    "# using dropna() for df_dropped\n",
    "df_dropped = df_dropped.dropna().round(2)\n",
    "\n",
    "\n",
    "diamonds[\"carat\"] =diamonds[\"carat\"].fillna(diamonds[\"carat\"].median())\n",
    "\n",
    "\n",
    "\n",
    "sns.histplot(data  = diamonds,\n",
    "             x     ='carat',\n",
    "             bins  = 'fd',\n",
    "             kde   = False,\n",
    "             color = 'red')\n",
    "\n",
    "\n",
    "# this adds a title\n",
    "plt.title(label = \"Distribution of Carat Weight\")\n",
    "\n",
    "\n",
    "# this adds an x-label\n",
    "plt.xlabel(xlabel = 'Carat Weight')\n",
    "\n",
    "\n",
    "# this add a y-label\n",
    "plt.ylabel(ylabel = 'Frequency')\n",
    "\n",
    "\n",
    "# these compile and display the plot so that it is formatted as expected\n",
    "plt.tight_layout()\n",
    "plt.show()\n"
   ]
  },
  {
   "cell_type": "code",
   "execution_count": 44,
   "metadata": {},
   "outputs": [
    {
     "data": {
      "image/png": "[encoded data removed]",
      "text/plain": [
       "<Figure size 432x288 with 1 Axes>"
      ]
     },
     "metadata": {
      "needs_background": "light"
     },
     "output_type": "display_data"
    }
   ],
   "source": [
    "# Fill in the missing value strategy for color in the xxxx space\n",
    "## print again a histogram\n",
    "df_dropped = pd.DataFrame.copy(diamonds)\n",
    "df_dropped = pd.DataFrame.copy(diamonds.color)\\\n",
    "\n",
    "\n",
    "\n",
    "# using dropna() for df_dropped\n",
    "df_dropped = df_dropped.dropna().round(2)\n",
    "\n",
    "\n",
    "diamonds[\"color\"] =diamonds[\"color\"].fillna(diamonds[\"color\"].median())\n",
    "\n",
    "\n",
    "\n",
    "sns.histplot(data  = diamonds,\n",
    "             x     ='color',\n",
    "             bins  = 'fd',\n",
    "             kde   = False,\n",
    "             color = 'red')\n",
    "\n",
    "\n",
    "# this adds a title\n",
    "plt.title(label = \"Distribution of color Weight\")\n",
    "\n",
    "\n",
    "# this adds an x-label\n",
    "plt.xlabel(xlabel = 'color Weight')\n",
    "\n",
    "\n",
    "# this add a y-label\n",
    "plt.ylabel(ylabel = 'Frequency')\n",
    "\n",
    "\n",
    "# these compile and display the plot so that it is formatted as expected\n",
    "plt.tight_layout()\n",
    "plt.show()"
   ]
  },
  {
   "cell_type": "code",
   "execution_count": 50,
   "metadata": {},
   "outputs": [
    {
     "data": {
      "image/png": "[encoded data removed]",
      "text/plain": [
       "<Figure size 432x288 with 1 Axes>"
      ]
     },
     "metadata": {
      "needs_background": "light"
     },
     "output_type": "display_data"
    }
   ],
   "source": [
    "# Fill in the missing value strategy for cut in the xxxx space\n",
    "## print again a histogram\n",
    "\n",
    "# Fill in the missing value strategy for color in the xxxx space\n",
    "## print again a histogram\n",
    "df_dropped = pd.DataFrame.copy(diamonds)\n",
    "df_dropped = pd.DataFrame.copy(diamonds.cut)\\\n",
    "\n",
    "\n",
    "\n",
    "# using dropna() for df_dropped\n",
    "df_dropped = df_dropped.dropna().round(2)\n",
    "\n",
    "\n",
    "diamonds[\"cut\"] =diamonds[\"cut\"].fillna(diamonds[\"cut\"].mode())\n",
    "\n",
    "\n",
    "\n",
    "sns.histplot(data  = diamonds,\n",
    "             x     ='cut',\n",
    "             bins  = 'fd',\n",
    "             kde   = False,\n",
    "             color = 'red')\n",
    "\n",
    "\n",
    "# this adds a title\n",
    "plt.title(label = \"Distribution of color Weight\")\n",
    "\n",
    "\n",
    "# this adds an x-label\n",
    "plt.xlabel(xlabel = 'cut Weight')\n",
    "\n",
    "\n",
    "# this add a y-label\n",
    "plt.ylabel(ylabel = 'Frequency')\n",
    "\n",
    "\n",
    "# these compile and display the plot so that it is formatted as expected\n",
    "plt.tight_layout()\n",
    "plt.show()"
   ]
  },
  {
   "cell_type": "code",
   "execution_count": 47,
   "metadata": {},
   "outputs": [
    {
     "data": {
      "image/png": "[encoded data removed]",
      "text/plain": [
       "<Figure size 432x288 with 1 Axes>"
      ]
     },
     "metadata": {
      "needs_background": "light"
     },
     "output_type": "display_data"
    }
   ],
   "source": [
    "# Fill in the missing value strategy for clarity in the xxxx space\n",
    "## print again a histogram\n",
    "## print again a histogram\n",
    "df_dropped = pd.DataFrame.copy(diamonds)\n",
    "df_dropped = pd.DataFrame.copy(diamonds.clarity)\\\n",
    "\n",
    "\n",
    "\n",
    "# using dropna() for df_dropped\n",
    "df_dropped = df_dropped.dropna().round(2)\n",
    "\n",
    "\n",
    "diamonds[\"clarity\"] =diamonds[\"clarity\"].fillna(diamonds[\"clarity\"].median())\n",
    "\n",
    "\n",
    "\n",
    "sns.histplot(data  = diamonds,\n",
    "             x     ='clarity',\n",
    "             bins  = 'fd',\n",
    "             kde   = False,\n",
    "             color = 'red')\n",
    "\n",
    "\n",
    "# this adds a title\n",
    "plt.title(label = \"Distribution of color Weight\")\n",
    "\n",
    "\n",
    "# this adds an x-label\n",
    "plt.xlabel(xlabel = 'clarity Weight')\n",
    "\n",
    "\n",
    "# this add a y-label\n",
    "plt.ylabel(ylabel = 'Frequency')\n",
    "\n",
    "\n",
    "# these compile and display the plot so that it is formatted as expected\n",
    "plt.tight_layout()\n",
    "plt.show()\n"
   ]
  },
  {
   "cell_type": "code",
   "execution_count": 49,
   "metadata": {},
   "outputs": [
    {
     "name": "stdout",
     "output_type": "stream",
     "text": [
      "0\n"
     ]
    }
   ],
   "source": [
    "#Check all null values are gone \n",
    "print(df_dropped.isnull().sum())"
   ]
  },
  {
   "cell_type": "markdown",
   "metadata": {},
   "source": [
    "# Visualize your data"
   ]
  },
  {
   "cell_type": "markdown",
   "metadata": {},
   "source": [
    "**apply different techniques to visualize your data. Also apply labels and titles to your data visuals**"
   ]
  },
  {
   "cell_type": "code",
   "execution_count": null,
   "metadata": {},
   "outputs": [],
   "source": [
    "# Create a distploy in seaborn for the salary column\n",
    "\n"
   ]
  },
  {
   "cell_type": "code",
   "execution_count": null,
   "metadata": {},
   "outputs": [],
   "source": [
    "# Use seaborn package to display a barplot within a whitegrid for rank (x) and salary (y)\n",
    "\n"
   ]
  },
  {
   "cell_type": "code",
   "execution_count": null,
   "metadata": {},
   "outputs": [],
   "source": [
    "# run a correlation analysis using df.corr()\n",
    "\n"
   ]
  },
  {
   "cell_type": "code",
   "execution_count": null,
   "metadata": {},
   "outputs": [],
   "source": [
    "# Split into 2 groups (using heu to split rank over male and female):\n",
    "\n"
   ]
  },
  {
   "cell_type": "code",
   "execution_count": null,
   "metadata": {},
   "outputs": [],
   "source": [
    "# Jointplot in seaborn with phd as x variable and salary as y\n",
    "\n"
   ]
  },
  {
   "cell_type": "code",
   "execution_count": null,
   "metadata": {},
   "outputs": [],
   "source": [
    "# Create a Violinplot with salary as x variable\n"
   ]
  },
  {
   "cell_type": "code",
   "execution_count": null,
   "metadata": {},
   "outputs": [],
   "source": [
    "# Use seaborn to make a box plot with rank as x and salary as y\n"
   ]
  },
  {
   "cell_type": "code",
   "execution_count": null,
   "metadata": {},
   "outputs": [],
   "source": [
    "# Use seaborn to make a box plot with rank as x and salary as y with Hue sex\n"
   ]
  },
  {
   "cell_type": "markdown",
   "metadata": {},
   "source": [
    "# Correlation analysis"
   ]
  },
  {
   "cell_type": "markdown",
   "metadata": {},
   "source": [
    "**conduct a correlation analysis on the variables and run linear visual outputs**"
   ]
  },
  {
   "cell_type": "code",
   "execution_count": null,
   "metadata": {},
   "outputs": [],
   "source": [
    "# Run a correlation analysis using df.corr( )\n",
    "\n"
   ]
  },
  {
   "cell_type": "code",
   "execution_count": null,
   "metadata": {},
   "outputs": [],
   "source": [
    "# create a heatmap (correlogram) with the following code (using df.corr( ))\n",
    "## dont forget to update the title of your visual\n",
    "\n",
    "mydata.corr().round(2)\n",
    "\n",
    "# Plot\n",
    "plt.figure(figsize=(12,10), dpi= 80)\n",
    "sns.heatmap(df.corr(), xticklabels=mydata.corr().columns, yticklabels=mydata.corr().columns, cmap='RdYlGn', center=0, annot=True)\n",
    "\n",
    "# Decorations\n",
    "plt.title('Correlogram of xxxxx', fontsize=22)\n",
    "plt.xticks(fontsize=12)\n",
    "plt.yticks(fontsize=12)\n",
    "plt.show()"
   ]
  },
  {
   "cell_type": "code",
   "execution_count": null,
   "metadata": {},
   "outputs": [],
   "source": [
    "# Use seaborn to make a normal pairplot \n",
    "\n"
   ]
  },
  {
   "cell_type": "code",
   "execution_count": null,
   "metadata": {},
   "outputs": [],
   "source": [
    "# Use seaborn to make a pairplot with 'rank' as Hue (using the provided code below)\n",
    "\n",
    "df = <dataframe name>\n",
    "\n",
    "# Plot\n",
    "plt.figure(figsize=(10,8), dpi= 80)\n",
    "sns.pairplot(df, hue=\"rank\")\n",
    "plt.show()\n",
    "\n"
   ]
  },
  {
   "cell_type": "code",
   "execution_count": null,
   "metadata": {},
   "outputs": [],
   "source": [
    "## Compare both pairplots: what is the difference between them both?\n"
   ]
  },
  {
   "cell_type": "code",
   "execution_count": null,
   "metadata": {},
   "outputs": [],
   "source": [
    "# Use seaborn to make a reg plot with phd as x variable and salary as y\n"
   ]
  },
  {
   "cell_type": "markdown",
   "metadata": {},
   "source": [
    "# Regression Analysis"
   ]
  },
  {
   "cell_type": "markdown",
   "metadata": {},
   "source": [
    "**Conduction a regression analysis with this data**"
   ]
  },
  {
   "cell_type": "code",
   "execution_count": null,
   "metadata": {},
   "outputs": [],
   "source": [
    "# Import Statsmodel functions:\n",
    "import statsmodels.formula.api as smf\n",
    "import statsmodels.api as sm"
   ]
  },
  {
   "cell_type": "code",
   "execution_count": null,
   "metadata": {},
   "outputs": [],
   "source": [
    "# run a bivariate regression with statsmodel\n"
   ]
  },
  {
   "cell_type": "code",
   "execution_count": null,
   "metadata": {},
   "outputs": [],
   "source": [
    "# run a multivariate regression with statsmodel\n"
   ]
  },
  {
   "cell_type": "code",
   "execution_count": null,
   "metadata": {},
   "outputs": [],
   "source": []
  }
 ],
 "metadata": {
  "kernelspec": {
   "display_name": "Python 3 (ipykernel)",
   "language": "python",
   "name": "python3"
  },
  "language_info": {
   "codemirror_mode": {
    "name": "ipython",
    "version": 3
   },
   "file_extension": ".py",
   "mimetype": "text/x-python",
   "name": "python",
   "nbconvert_exporter": "python",
   "pygments_lexer": "ipython3",
   "version": "3.9.7"
  },
  "latex_envs": {
   "LaTeX_envs_menu_present": true,
   "autoclose": false,
   "autocomplete": true,
   "bibliofile": "biblio.bib",
   "cite_by": "apalike",
   "current_citInitial": 1,
   "eqLabelWithNumbers": true,
   "eqNumInitial": 1,
   "hotkeys": {
    "equation": "Ctrl-E",
    "itemize": "Ctrl-I"
   },
   "labels_anchors": false,
   "latex_user_defs": false,
   "report_style_numbering": false,
   "user_envs_cfg": false
  },
  "toc": {
   "base_numbering": 1,
   "nav_menu": {},
   "number_sections": true,
   "sideBar": true,
   "skip_h1_title": false,
   "title_cell": "Table of Contents",
   "title_sidebar": "Contents",
   "toc_cell": false,
   "toc_position": {
    "height": "calc(100% - 180px)",
    "left": "10px",
    "top": "150px",
    "width": "288px"
   },
   "toc_section_display": true,
   "toc_window_display": true
  },
  "varInspector": {
   "cols": {
    "lenName": 16,
    "lenType": 16,
    "lenVar": 40
   },
   "kernels_config": {
    "python": {
     "delete_cmd_postfix": "",
     "delete_cmd_prefix": "del ",
     "library": "var_list.py",
     "varRefreshCmd": "print(var_dic_list())"
    },
    "r": {
     "delete_cmd_postfix": ") ",
     "delete_cmd_prefix": "rm(",
     "library": "var_list.r",
     "varRefreshCmd": "cat(var_dic_list()) "
    }
   },
   "types_to_exclude": [
    "module",
    "function",
    "builtin_function_or_method",
    "instance",
    "_Feature"
   ],
   "window_display": false
  }
 },
 "nbformat": 4,
 "nbformat_minor": 4
}
