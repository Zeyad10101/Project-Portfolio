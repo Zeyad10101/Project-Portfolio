{
 "cells": [
  {
   "cell_type": "code",
   "execution_count": 25,
   "id": "1fec3b0d",
   "metadata": {},
   "outputs": [],
   "source": [
    "# Accessing APIs\n",
    "import requests"
   ]
  },
  {
   "cell_type": "code",
   "execution_count": 32,
   "id": "025841dc",
   "metadata": {},
   "outputs": [],
   "source": [
    "url = \"https://randomuser.me/api/\""
   ]
  },
  {
   "cell_type": "code",
   "execution_count": 34,
   "id": "246f720a",
   "metadata": {},
   "outputs": [
    {
     "data": {
      "text/plain": [
       "<Response [200]>"
      ]
     },
     "execution_count": 34,
     "metadata": {},
     "output_type": "execute_result"
    }
   ],
   "source": [
    "resp = requests.get(url)\n",
    "resp\n"
   ]
  },
  {
   "cell_type": "code",
   "execution_count": 36,
   "id": "deeeecff",
   "metadata": {},
   "outputs": [
    {
     "data": {
      "text/plain": [
       "200"
      ]
     },
     "execution_count": 36,
     "metadata": {},
     "output_type": "execute_result"
    }
   ],
   "source": [
    "# HTTP status codes\n",
    "# https://restfulapi.net/http-status-codes/\n",
    "resp.status_code"
   ]
  },
  {
   "cell_type": "code",
   "execution_count": 37,
   "id": "b01b9718",
   "metadata": {},
   "outputs": [
    {
     "data": {
      "text/plain": [
       "{'Date': 'Tue, 19 Jul 2022 17:39:51 GMT', 'Content-Type': 'application/json; charset=utf-8', 'Transfer-Encoding': 'chunked', 'Connection': 'keep-alive', 'X-Powered-By': 'Express', 'Access-Control-Allow-Origin': '*', 'Cache-Control': 'no-cache', 'ETag': 'W/\"49b-1QLwZlAKC2iezyBVcDmVGxugPAc\"', 'Vary': 'Accept-Encoding', 'CF-Cache-Status': 'DYNAMIC', 'Expect-CT': 'max-age=604800, report-uri=\"https://report-uri.cloudflare.com/cdn-cgi/beacon/expect-ct\"', 'Report-To': '{\"endpoints\":[{\"url\":\"https:\\\\/\\\\/a.nel.cloudflare.com\\\\/report\\\\/v3?s=UaNICo5aUkxm3MzjTXa4ngmrTv34YJkLYKrVubrw3xKiLAH5OICghTPNQWi%2FEu58PDWSx4RTNbtDSoiB9PjdRL2d9VRAazGULT6DnZuN466KB2sh%2FdmuFA0LYBAbRLlx\"}],\"group\":\"cf-nel\",\"max_age\":604800}', 'NEL': '{\"success_fraction\":0,\"report_to\":\"cf-nel\",\"max_age\":604800}', 'Server': 'cloudflare', 'CF-RAY': '72d53d233c7db482-DXB', 'Content-Encoding': 'br', 'alt-svc': 'h3=\":443\"; ma=86400, h3-29=\":443\"; ma=86400'}"
      ]
     },
     "execution_count": 37,
     "metadata": {},
     "output_type": "execute_result"
    }
   ],
   "source": [
    "# response headers\n",
    "resp.headers"
   ]
  },
  {
   "cell_type": "code",
   "execution_count": 38,
   "id": "169c2496",
   "metadata": {},
   "outputs": [
    {
     "data": {
      "text/plain": [
       "'application/json; charset=utf-8'"
      ]
     },
     "execution_count": 38,
     "metadata": {},
     "output_type": "execute_result"
    }
   ],
   "source": [
    "resp.headers.get(\"Content-Type\")"
   ]
  },
  {
   "cell_type": "code",
   "execution_count": 39,
   "id": "201efdcc",
   "metadata": {},
   "outputs": [
    {
     "data": {
      "text/plain": [
       "'{\"results\":[{\"gender\":\"female\",\"name\":{\"title\":\"Mrs\",\"first\":\"Mildred\",\"last\":\"Craig\"},\"location\":{\"street\":{\"number\":990,\"name\":\"Saddle Dr\"},\"city\":\"West Covina\",\"state\":\"Montana\",\"country\":\"United States\",\"postcode\":44998,\"coordinates\":{\"latitude\":\"84.4304\",\"longitude\":\"146.7821\"},\"timezone\":{\"offset\":\"+1:00\",\"description\":\"Brussels, Copenhagen, Madrid, Paris\"}},\"email\":\"mildred.craig@example.com\",\"login\":{\"uuid\":\"b2971bf8-6883-448e-ba2e-b141ca8c2939\",\"username\":\"tinypanda203\",\"password\":\"bohica\",\"salt\":\"IHlsG40Q\",\"md5\":\"b1ae1560e846f2e609cf2eaa79d90c19\",\"sha1\":\"02c98b13398d75b9551a50cd1115dff549afcf00\",\"sha256\":\"4e1d6030c0dbc07a9fad3da6f34ef05d8e5da8415941d6bfaa380cc488b44d6c\"},\"dob\":{\"date\":\"1961-09-22T09:47:26.785Z\",\"age\":60},\"registered\":{\"date\":\"2003-12-30T03:14:06.394Z\",\"age\":18},\"phone\":\"(757) 362-5658\",\"cell\":\"(882) 725-8453\",\"id\":{\"name\":\"SSN\",\"value\":\"203-30-0713\"},\"picture\":{\"large\":\"https://randomuser.me/api/portraits/women/76.jpg\",\"medium\":\"https://randomuser.me/api/portraits/med/women/76.jpg\",\"thumbnail\":\"https://randomuser.me/api/portraits/thumb/women/76.jpg\"},\"nat\":\"US\"}],\"info\":{\"seed\":\"265ef42f50b4dc4a\",\"results\":1,\"page\":1,\"version\":\"1.4\"}}'"
      ]
     },
     "execution_count": 39,
     "metadata": {},
     "output_type": "execute_result"
    }
   ],
   "source": [
    "# response body\n",
    "resp.text"
   ]
  },
  {
   "cell_type": "code",
   "execution_count": 40,
   "id": "4b5f67cb",
   "metadata": {},
   "outputs": [
    {
     "data": {
      "text/plain": [
       "{'results': [{'gender': 'female',\n",
       "   'name': {'title': 'Mrs', 'first': 'Mildred', 'last': 'Craig'},\n",
       "   'location': {'street': {'number': 990, 'name': 'Saddle Dr'},\n",
       "    'city': 'West Covina',\n",
       "    'state': 'Montana',\n",
       "    'country': 'United States',\n",
       "    'postcode': 44998,\n",
       "    'coordinates': {'latitude': '84.4304', 'longitude': '146.7821'},\n",
       "    'timezone': {'offset': '+1:00',\n",
       "     'description': 'Brussels, Copenhagen, Madrid, Paris'}},\n",
       "   'email': 'mildred.craig@example.com',\n",
       "   'login': {'uuid': 'b2971bf8-6883-448e-ba2e-b141ca8c2939',\n",
       "    'username': 'tinypanda203',\n",
       "    'password': 'bohica',\n",
       "    'salt': 'IHlsG40Q',\n",
       "    'md5': 'b1ae1560e846f2e609cf2eaa79d90c19',\n",
       "    'sha1': '02c98b13398d75b9551a50cd1115dff549afcf00',\n",
       "    'sha256': '4e1d6030c0dbc07a9fad3da6f34ef05d8e5da8415941d6bfaa380cc488b44d6c'},\n",
       "   'dob': {'date': '1961-09-22T09:47:26.785Z', 'age': 60},\n",
       "   'registered': {'date': '2003-12-30T03:14:06.394Z', 'age': 18},\n",
       "   'phone': '(757) 362-5658',\n",
       "   'cell': '(882) 725-8453',\n",
       "   'id': {'name': 'SSN', 'value': '203-30-0713'},\n",
       "   'picture': {'large': 'https://randomuser.me/api/portraits/women/76.jpg',\n",
       "    'medium': 'https://randomuser.me/api/portraits/med/women/76.jpg',\n",
       "    'thumbnail': 'https://randomuser.me/api/portraits/thumb/women/76.jpg'},\n",
       "   'nat': 'US'}],\n",
       " 'info': {'seed': '265ef42f50b4dc4a',\n",
       "  'results': 1,\n",
       "  'page': 1,\n",
       "  'version': '1.4'}}"
      ]
     },
     "execution_count": 40,
     "metadata": {},
     "output_type": "execute_result"
    }
   ],
   "source": [
    "# json format of the response\n",
    "rj = resp.json()\n",
    "rj"
   ]
  },
  {
   "cell_type": "code",
   "execution_count": 41,
   "id": "a6ddff57",
   "metadata": {},
   "outputs": [
    {
     "data": {
      "text/plain": [
       "[{'gender': 'female',\n",
       "  'name': {'title': 'Mrs', 'first': 'Mildred', 'last': 'Craig'},\n",
       "  'location': {'street': {'number': 990, 'name': 'Saddle Dr'},\n",
       "   'city': 'West Covina',\n",
       "   'state': 'Montana',\n",
       "   'country': 'United States',\n",
       "   'postcode': 44998,\n",
       "   'coordinates': {'latitude': '84.4304', 'longitude': '146.7821'},\n",
       "   'timezone': {'offset': '+1:00',\n",
       "    'description': 'Brussels, Copenhagen, Madrid, Paris'}},\n",
       "  'email': 'mildred.craig@example.com',\n",
       "  'login': {'uuid': 'b2971bf8-6883-448e-ba2e-b141ca8c2939',\n",
       "   'username': 'tinypanda203',\n",
       "   'password': 'bohica',\n",
       "   'salt': 'IHlsG40Q',\n",
       "   'md5': 'b1ae1560e846f2e609cf2eaa79d90c19',\n",
       "   'sha1': '02c98b13398d75b9551a50cd1115dff549afcf00',\n",
       "   'sha256': '4e1d6030c0dbc07a9fad3da6f34ef05d8e5da8415941d6bfaa380cc488b44d6c'},\n",
       "  'dob': {'date': '1961-09-22T09:47:26.785Z', 'age': 60},\n",
       "  'registered': {'date': '2003-12-30T03:14:06.394Z', 'age': 18},\n",
       "  'phone': '(757) 362-5658',\n",
       "  'cell': '(882) 725-8453',\n",
       "  'id': {'name': 'SSN', 'value': '203-30-0713'},\n",
       "  'picture': {'large': 'https://randomuser.me/api/portraits/women/76.jpg',\n",
       "   'medium': 'https://randomuser.me/api/portraits/med/women/76.jpg',\n",
       "   'thumbnail': 'https://randomuser.me/api/portraits/thumb/women/76.jpg'},\n",
       "  'nat': 'US'}]"
      ]
     },
     "execution_count": 41,
     "metadata": {},
     "output_type": "execute_result"
    }
   ],
   "source": [
    "# this is a nested data struture\n",
    "rj['results']"
   ]
  },
  {
   "cell_type": "code",
   "execution_count": 42,
   "id": "6a5be937",
   "metadata": {},
   "outputs": [
    {
     "data": {
      "text/plain": [
       "list"
      ]
     },
     "execution_count": 42,
     "metadata": {},
     "output_type": "execute_result"
    }
   ],
   "source": [
    "type(rj['results'])"
   ]
  },
  {
   "cell_type": "code",
   "execution_count": 43,
   "id": "3f65cb91",
   "metadata": {},
   "outputs": [
    {
     "data": {
      "text/plain": [
       "1"
      ]
     },
     "execution_count": 43,
     "metadata": {},
     "output_type": "execute_result"
    }
   ],
   "source": [
    "len(rj['results'])"
   ]
  },
  {
   "cell_type": "code",
   "execution_count": 46,
   "id": "e759f297",
   "metadata": {},
   "outputs": [
    {
     "data": {
      "text/plain": [
       "'West Covina'"
      ]
     },
     "execution_count": 46,
     "metadata": {},
     "output_type": "execute_result"
    }
   ],
   "source": [
    "rj['results'][0]['location']['city']"
   ]
  },
  {
   "cell_type": "code",
   "execution_count": 53,
   "id": "f24fe352",
   "metadata": {},
   "outputs": [
    {
     "ename": "SyntaxError",
     "evalue": "invalid syntax (1009654927.py, line 1)",
     "output_type": "error",
     "traceback": [
      "\u001b[0;36m  File \u001b[0;32m\"/var/folders/kr/1zs240g17nl_9nf02dsqzmwc0000gn/T/ipykernel_87743/1009654927.py\"\u001b[0;36m, line \u001b[0;32m1\u001b[0m\n\u001b[0;31m    rj['results']0['location']\u001b[0m\n\u001b[0m                 ^\u001b[0m\n\u001b[0;31mSyntaxError\u001b[0m\u001b[0;31m:\u001b[0m invalid syntax\n"
     ]
    }
   ],
   "source": [
    "rj['results']0['location']"
   ]
  },
  {
   "cell_type": "code",
   "execution_count": 54,
   "id": "56e87c36",
   "metadata": {},
   "outputs": [
    {
     "data": {
      "text/plain": [
       "'mildred.craig@example.com'"
      ]
     },
     "execution_count": 54,
     "metadata": {},
     "output_type": "execute_result"
    }
   ],
   "source": [
    "rj['results'][0] ['email']"
   ]
  },
  {
   "cell_type": "code",
   "execution_count": 55,
   "id": "b24d719c",
   "metadata": {},
   "outputs": [
    {
     "data": {
      "text/plain": [
       "{'results': [{'gender': 'female',\n",
       "   'name': {'title': 'Ms', 'first': 'Margarita', 'last': 'Mochurad'},\n",
       "   'location': {'street': {'number': 8205, 'name': 'Amosova'},\n",
       "    'city': 'Vashkivci',\n",
       "    'state': 'Mikolayivska',\n",
       "    'country': 'Ukraine',\n",
       "    'postcode': 21993,\n",
       "    'coordinates': {'latitude': '73.5873', 'longitude': '1.2916'},\n",
       "    'timezone': {'offset': '+4:00',\n",
       "     'description': 'Abu Dhabi, Muscat, Baku, Tbilisi'}},\n",
       "   'email': 'margarita.mochurad@example.com',\n",
       "   'login': {'uuid': '9b9d2282-85e1-4799-b3c5-55339fc2d2d0',\n",
       "    'username': 'smallgoose408',\n",
       "    'password': 'casey',\n",
       "    'salt': 'Iw5fDKKp',\n",
       "    'md5': '66d3dfe38d0267c84ed409b8a89abf40',\n",
       "    'sha1': '64bb63497b550a7d84faf19a19b3a39c9e8abb8f',\n",
       "    'sha256': '1352ffadd80188a4f4d6fe41cdac45939b61a34086d843ecc9419c6cf18b4e8b'},\n",
       "   'dob': {'date': '1962-09-29T20:21:48.818Z', 'age': 59},\n",
       "   'registered': {'date': '2006-09-13T19:14:10.400Z', 'age': 15},\n",
       "   'phone': '(097) Z71-8180',\n",
       "   'cell': '(066) C67-1688',\n",
       "   'id': {'name': '', 'value': None},\n",
       "   'picture': {'large': 'https://randomuser.me/api/portraits/women/22.jpg',\n",
       "    'medium': 'https://randomuser.me/api/portraits/med/women/22.jpg',\n",
       "    'thumbnail': 'https://randomuser.me/api/portraits/thumb/women/22.jpg'},\n",
       "   'nat': 'UA'},\n",
       "  {'gender': 'female',\n",
       "   'name': {'title': 'Mrs', 'first': 'Julie', 'last': 'Johansen'},\n",
       "   'location': {'street': {'number': 9754, 'name': 'Fuglebakken'},\n",
       "    'city': 'København Ø',\n",
       "    'state': 'Hovedstaden',\n",
       "    'country': 'Denmark',\n",
       "    'postcode': 80356,\n",
       "    'coordinates': {'latitude': '-79.3525', 'longitude': '-146.6648'},\n",
       "    'timezone': {'offset': '+11:00',\n",
       "     'description': 'Magadan, Solomon Islands, New Caledonia'}},\n",
       "   'email': 'julie.johansen@example.com',\n",
       "   'login': {'uuid': 'ab3add47-47ff-4373-8df6-715504bc0b43',\n",
       "    'username': 'silverrabbit153',\n",
       "    'password': 'cromwell',\n",
       "    'salt': '27xCfvvd',\n",
       "    'md5': 'db2079e64ec195a8fbe7762f6acf7613',\n",
       "    'sha1': 'aadc5aff95799b7e237c37a8add48a3fb76ce9fd',\n",
       "    'sha256': 'b61b0ef2dd353f18dfc1b1b35f31257cb8d906750742b7469765142b878ea97f'},\n",
       "   'dob': {'date': '1986-12-23T19:57:34.590Z', 'age': 35},\n",
       "   'registered': {'date': '2007-09-03T11:46:50.340Z', 'age': 14},\n",
       "   'phone': '21194430',\n",
       "   'cell': '22455842',\n",
       "   'id': {'name': 'CPR', 'value': '231286-9826'},\n",
       "   'picture': {'large': 'https://randomuser.me/api/portraits/women/20.jpg',\n",
       "    'medium': 'https://randomuser.me/api/portraits/med/women/20.jpg',\n",
       "    'thumbnail': 'https://randomuser.me/api/portraits/thumb/women/20.jpg'},\n",
       "   'nat': 'DK'},\n",
       "  {'gender': 'female',\n",
       "   'name': {'title': 'Ms', 'first': 'Pramila', 'last': 'Mardhekar'},\n",
       "   'location': {'street': {'number': 6600, 'name': 'Swargate'},\n",
       "    'city': 'Jhansi',\n",
       "    'state': 'Meghalaya',\n",
       "    'country': 'India',\n",
       "    'postcode': 86295,\n",
       "    'coordinates': {'latitude': '-42.1667', 'longitude': '-110.9288'},\n",
       "    'timezone': {'offset': '+1:00',\n",
       "     'description': 'Brussels, Copenhagen, Madrid, Paris'}},\n",
       "   'email': 'pramila.mardhekar@example.com',\n",
       "   'login': {'uuid': '1f675134-788e-473e-a4b8-88c7ae6ad265',\n",
       "    'username': 'orangetiger540',\n",
       "    'password': 'mouse',\n",
       "    'salt': 'jzw6Xxl2',\n",
       "    'md5': '01d6d2d50e14ec2794fdd10c29c3b25b',\n",
       "    'sha1': '51a9f61fb64ef1d98d9af903b96da4ddfd02c60d',\n",
       "    'sha256': '02da438493d1d8985beae171b595c911c5f3ff419683c10eafe1a68c34572d51'},\n",
       "   'dob': {'date': '1957-07-25T09:18:10.582Z', 'age': 64},\n",
       "   'registered': {'date': '2008-08-18T12:52:33.307Z', 'age': 13},\n",
       "   'phone': '8491076509',\n",
       "   'cell': '8297467379',\n",
       "   'id': {'name': 'UIDAI', 'value': '511816657393'},\n",
       "   'picture': {'large': 'https://randomuser.me/api/portraits/women/57.jpg',\n",
       "    'medium': 'https://randomuser.me/api/portraits/med/women/57.jpg',\n",
       "    'thumbnail': 'https://randomuser.me/api/portraits/thumb/women/57.jpg'},\n",
       "   'nat': 'IN'},\n",
       "  {'gender': 'female',\n",
       "   'name': {'title': 'Miss', 'first': 'Victoria', 'last': 'Bélanger'},\n",
       "   'location': {'street': {'number': 9913, 'name': 'Queen St'},\n",
       "    'city': 'Havelock',\n",
       "    'state': 'Northwest Territories',\n",
       "    'country': 'Canada',\n",
       "    'postcode': 'X5Q 2O4',\n",
       "    'coordinates': {'latitude': '78.2344', 'longitude': '107.7807'},\n",
       "    'timezone': {'offset': '0:00',\n",
       "     'description': 'Western Europe Time, London, Lisbon, Casablanca'}},\n",
       "   'email': 'victoria.belanger@example.com',\n",
       "   'login': {'uuid': '62d98e73-5976-4e20-8980-f53fc6ac5bf8',\n",
       "    'username': 'ticklishelephant316',\n",
       "    'password': 'meredith',\n",
       "    'salt': 'K6s10ast',\n",
       "    'md5': '061d4fc189439a62f1664fbbd5b5e156',\n",
       "    'sha1': '7ddb1ece8e37752a778108fbef9c0d099246b5d0',\n",
       "    'sha256': '11ea5bf07d65dbb5aac6c764a245d2b8358c2f0b1e34b0b8c4d801c10892b721'},\n",
       "   'dob': {'date': '1962-04-04T08:05:11.631Z', 'age': 60},\n",
       "   'registered': {'date': '2019-12-07T07:00:52.473Z', 'age': 2},\n",
       "   'phone': 'R53 N38-6720',\n",
       "   'cell': 'Z71 P13-3225',\n",
       "   'id': {'name': 'SIN', 'value': '574227112'},\n",
       "   'picture': {'large': 'https://randomuser.me/api/portraits/women/11.jpg',\n",
       "    'medium': 'https://randomuser.me/api/portraits/med/women/11.jpg',\n",
       "    'thumbnail': 'https://randomuser.me/api/portraits/thumb/women/11.jpg'},\n",
       "   'nat': 'CA'},\n",
       "  {'gender': 'female',\n",
       "   'name': {'title': 'Ms', 'first': 'Lea', 'last': 'Williams'},\n",
       "   'location': {'street': {'number': 5626, 'name': 'Brock Rd'},\n",
       "    'city': 'Grand Falls',\n",
       "    'state': 'Newfoundland and Labrador',\n",
       "    'country': 'Canada',\n",
       "    'postcode': 'K7M 0F5',\n",
       "    'coordinates': {'latitude': '-55.7778', 'longitude': '-117.1369'},\n",
       "    'timezone': {'offset': '+2:00',\n",
       "     'description': 'Kaliningrad, South Africa'}},\n",
       "   'email': 'lea.williams@example.com',\n",
       "   'login': {'uuid': 'd2ba8b5f-61f2-447f-866d-9e4df0459d33',\n",
       "    'username': 'brownduck199',\n",
       "    'password': 'asdfgh',\n",
       "    'salt': 'zfqyjvtO',\n",
       "    'md5': '01b81dcff57d3229014fbf98be30abe8',\n",
       "    'sha1': '999d2a146e934ebd9953e6c33fad83188858d1f8',\n",
       "    'sha256': '9a4236d00191714c4d46df648ab8dcd3080c9dc89789f9a994148c68efda5d78'},\n",
       "   'dob': {'date': '1975-12-18T06:07:34.625Z', 'age': 46},\n",
       "   'registered': {'date': '2021-07-16T13:28:30.155Z', 'age': 1},\n",
       "   'phone': 'X80 L76-3538',\n",
       "   'cell': 'H02 M73-3800',\n",
       "   'id': {'name': 'SIN', 'value': '490469533'},\n",
       "   'picture': {'large': 'https://randomuser.me/api/portraits/women/75.jpg',\n",
       "    'medium': 'https://randomuser.me/api/portraits/med/women/75.jpg',\n",
       "    'thumbnail': 'https://randomuser.me/api/portraits/thumb/women/75.jpg'},\n",
       "   'nat': 'CA'},\n",
       "  {'gender': 'female',\n",
       "   'name': {'title': 'Mademoiselle', 'first': 'Giuliana', 'last': 'Gauthier'},\n",
       "   'location': {'street': {'number': 8808, 'name': \"Place de L'Abbé-Basset\"},\n",
       "    'city': 'Zullwil',\n",
       "    'state': 'Zürich',\n",
       "    'country': 'Switzerland',\n",
       "    'postcode': 2670,\n",
       "    'coordinates': {'latitude': '-34.1632', 'longitude': '136.0969'},\n",
       "    'timezone': {'offset': '-3:00',\n",
       "     'description': 'Brazil, Buenos Aires, Georgetown'}},\n",
       "   'email': 'giuliana.gauthier@example.com',\n",
       "   'login': {'uuid': '1a8485ea-c40f-4c19-b643-385c120dfcfb',\n",
       "    'username': 'ticklishzebra635',\n",
       "    'password': 'calvin',\n",
       "    'salt': 'wXIdNukI',\n",
       "    'md5': '990b7283cf7023416cc6d57592a832b3',\n",
       "    'sha1': 'd9caaf13af3bcc4fa81bfe36d4cd1a399baae309',\n",
       "    'sha256': '4e3e414fd1cb78bc6bd12189be16cb92623264a8c1d73be76fe300b5d65c5694'},\n",
       "   'dob': {'date': '1947-11-12T19:41:33.624Z', 'age': 74},\n",
       "   'registered': {'date': '2013-05-25T08:59:09.114Z', 'age': 9},\n",
       "   'phone': '078 172 80 62',\n",
       "   'cell': '076 637 42 12',\n",
       "   'id': {'name': 'AVS', 'value': '756.4105.1092.75'},\n",
       "   'picture': {'large': 'https://randomuser.me/api/portraits/women/64.jpg',\n",
       "    'medium': 'https://randomuser.me/api/portraits/med/women/64.jpg',\n",
       "    'thumbnail': 'https://randomuser.me/api/portraits/thumb/women/64.jpg'},\n",
       "   'nat': 'CH'},\n",
       "  {'gender': 'female',\n",
       "   'name': {'title': 'Miss', 'first': 'Anika', 'last': 'Rai'},\n",
       "   'location': {'street': {'number': 7840, 'name': 'Chaman Ganj'},\n",
       "    'city': 'Tirunelveli',\n",
       "    'state': 'Bihar',\n",
       "    'country': 'India',\n",
       "    'postcode': 63010,\n",
       "    'coordinates': {'latitude': '-72.1870', 'longitude': '136.1374'},\n",
       "    'timezone': {'offset': '-10:00', 'description': 'Hawaii'}},\n",
       "   'email': 'anika.rai@example.com',\n",
       "   'login': {'uuid': '38f1f330-a066-4962-8d84-aae8e5dc8392',\n",
       "    'username': 'bluecat268',\n",
       "    'password': 'student',\n",
       "    'salt': 'thhiRU3G',\n",
       "    'md5': 'f48d5a09460758dbcc68b74f338a579f',\n",
       "    'sha1': 'c3154c85737fffe5f5d547a0c873cf7ceaf6af4f',\n",
       "    'sha256': '642c055597bd6402118455b61c08d02f1ae778dc7533e2e306384b72ded525d8'},\n",
       "   'dob': {'date': '1986-10-24T01:11:57.761Z', 'age': 35},\n",
       "   'registered': {'date': '2002-12-25T19:17:37.010Z', 'age': 19},\n",
       "   'phone': '9181246045',\n",
       "   'cell': '9869586651',\n",
       "   'id': {'name': 'UIDAI', 'value': '668604308429'},\n",
       "   'picture': {'large': 'https://randomuser.me/api/portraits/women/30.jpg',\n",
       "    'medium': 'https://randomuser.me/api/portraits/med/women/30.jpg',\n",
       "    'thumbnail': 'https://randomuser.me/api/portraits/thumb/women/30.jpg'},\n",
       "   'nat': 'IN'},\n",
       "  {'gender': 'female',\n",
       "   'name': {'title': 'Mrs', 'first': 'Louella', 'last': 'Beck'},\n",
       "   'location': {'street': {'number': 5507, 'name': 'Edwards Rd'},\n",
       "    'city': 'Rockhampton',\n",
       "    'state': 'Western Australia',\n",
       "    'country': 'Australia',\n",
       "    'postcode': 7599,\n",
       "    'coordinates': {'latitude': '66.0860', 'longitude': '-12.8933'},\n",
       "    'timezone': {'offset': '+1:00',\n",
       "     'description': 'Brussels, Copenhagen, Madrid, Paris'}},\n",
       "   'email': 'louella.beck@example.com',\n",
       "   'login': {'uuid': '923e5fe4-4fa6-48a0-9993-c4e4717f414c',\n",
       "    'username': 'blackmeercat269',\n",
       "    'password': 'temppass',\n",
       "    'salt': 'nVnBJa3h',\n",
       "    'md5': '3aa4e552bbbe0b31788f5652b0d7d2f9',\n",
       "    'sha1': 'deff86cfe92c94bb0cfd3d8f09ce471a05003676',\n",
       "    'sha256': '56114b95c58796973bc1997b07a2a78aa6b21dc058b57857aca5f979d61315dc'},\n",
       "   'dob': {'date': '1998-03-03T18:53:44.910Z', 'age': 24},\n",
       "   'registered': {'date': '2014-09-16T12:14:13.577Z', 'age': 7},\n",
       "   'phone': '02-3250-6283',\n",
       "   'cell': '0407-982-159',\n",
       "   'id': {'name': 'TFN', 'value': '224511654'},\n",
       "   'picture': {'large': 'https://randomuser.me/api/portraits/women/34.jpg',\n",
       "    'medium': 'https://randomuser.me/api/portraits/med/women/34.jpg',\n",
       "    'thumbnail': 'https://randomuser.me/api/portraits/thumb/women/34.jpg'},\n",
       "   'nat': 'AU'},\n",
       "  {'gender': 'female',\n",
       "   'name': {'title': 'Ms', 'first': 'Sushmitha', 'last': 'Mugeraya'},\n",
       "   'location': {'street': {'number': 7211, 'name': 'Sao Tome Old Quarter'},\n",
       "    'city': 'Karimnagar',\n",
       "    'state': 'Tripura',\n",
       "    'country': 'India',\n",
       "    'postcode': 26022,\n",
       "    'coordinates': {'latitude': '18.0434', 'longitude': '-61.7825'},\n",
       "    'timezone': {'offset': '-2:00', 'description': 'Mid-Atlantic'}},\n",
       "   'email': 'sushmitha.mugeraya@example.com',\n",
       "   'login': {'uuid': '591baaff-a309-4230-a16e-b893b89583e2',\n",
       "    'username': 'blackzebra599',\n",
       "    'password': 'chunky',\n",
       "    'salt': 'syLb47Du',\n",
       "    'md5': '911fb200260453aa15a88d94a6806413',\n",
       "    'sha1': 'ca57046f4fa8aab5368960ef44f6b2c4e71a2d78',\n",
       "    'sha256': '8fa3ad6757f38b9a91ccfe070787d455ee90528ed781b84c1d2a27248cd77c3a'},\n",
       "   'dob': {'date': '1982-07-12T09:25:14.813Z', 'age': 40},\n",
       "   'registered': {'date': '2008-01-17T16:03:57.383Z', 'age': 14},\n",
       "   'phone': '8903153554',\n",
       "   'cell': '8831016374',\n",
       "   'id': {'name': 'UIDAI', 'value': '351431678170'},\n",
       "   'picture': {'large': 'https://randomuser.me/api/portraits/women/91.jpg',\n",
       "    'medium': 'https://randomuser.me/api/portraits/med/women/91.jpg',\n",
       "    'thumbnail': 'https://randomuser.me/api/portraits/thumb/women/91.jpg'},\n",
       "   'nat': 'IN'},\n",
       "  {'gender': 'female',\n",
       "   'name': {'title': 'Miss', 'first': 'Sonali', 'last': 'Gugale'},\n",
       "   'location': {'street': {'number': 6961, 'name': 'Pali Hill'},\n",
       "    'city': 'Surendranagar',\n",
       "    'state': 'Mizoram',\n",
       "    'country': 'India',\n",
       "    'postcode': 38867,\n",
       "    'coordinates': {'latitude': '-82.1612', 'longitude': '-36.5708'},\n",
       "    'timezone': {'offset': '+1:00',\n",
       "     'description': 'Brussels, Copenhagen, Madrid, Paris'}},\n",
       "   'email': 'sonali.gugale@example.com',\n",
       "   'login': {'uuid': '93613d1c-d5d4-4849-8be6-342074e88c92',\n",
       "    'username': 'orangeladybug848',\n",
       "    'password': 'georgia',\n",
       "    'salt': 'qLPtKZgo',\n",
       "    'md5': 'fe2d22da19ccb2b2ea447d235463f137',\n",
       "    'sha1': 'd99631ad32d1d7cedbfc56f2fe5bb27acfd0f15b',\n",
       "    'sha256': '64aebc02a7f672b07998946266a8bf3b6d42c2e61cd9c243828e2288b958b62b'},\n",
       "   'dob': {'date': '1980-11-12T03:54:22.430Z', 'age': 41},\n",
       "   'registered': {'date': '2003-05-11T03:42:02.024Z', 'age': 19},\n",
       "   'phone': '7137055640',\n",
       "   'cell': '8974982233',\n",
       "   'id': {'name': 'UIDAI', 'value': '201640347699'},\n",
       "   'picture': {'large': 'https://randomuser.me/api/portraits/women/0.jpg',\n",
       "    'medium': 'https://randomuser.me/api/portraits/med/women/0.jpg',\n",
       "    'thumbnail': 'https://randomuser.me/api/portraits/thumb/women/0.jpg'},\n",
       "   'nat': 'IN'}],\n",
       " 'info': {'seed': '98b3bfa0bf01ca63',\n",
       "  'results': 10,\n",
       "  'page': 1,\n",
       "  'version': '1.4'}}"
      ]
     },
     "execution_count": 55,
     "metadata": {},
     "output_type": "execute_result"
    }
   ],
   "source": [
    "# query paramaters\n",
    "qp = {\"gender\": \"female\",\"results\":10}\n",
    "rj = requests.get(url, params= qp).json()\n",
    "rj "
   ]
  },
  {
   "cell_type": "code",
   "execution_count": 56,
   "id": "9bca0bfc",
   "metadata": {},
   "outputs": [
    {
     "data": {
      "text/plain": [
       "10"
      ]
     },
     "execution_count": 56,
     "metadata": {},
     "output_type": "execute_result"
    }
   ],
   "source": [
    "len(rj['results'])"
   ]
  },
  {
   "cell_type": "code",
   "execution_count": 58,
   "id": "57e77316",
   "metadata": {},
   "outputs": [
    {
     "data": {
      "text/plain": [
       "['margarita.mochurad@example.com',\n",
       " 'julie.johansen@example.com',\n",
       " 'pramila.mardhekar@example.com',\n",
       " 'victoria.belanger@example.com',\n",
       " 'lea.williams@example.com',\n",
       " 'giuliana.gauthier@example.com',\n",
       " 'anika.rai@example.com',\n",
       " 'louella.beck@example.com',\n",
       " 'sushmitha.mugeraya@example.com',\n",
       " 'sonali.gugale@example.com']"
      ]
     },
     "execution_count": 58,
     "metadata": {},
     "output_type": "execute_result"
    }
   ],
   "source": [
    "# collect list of emails\n",
    "[person['email'] for person in rj['results']]"
   ]
  },
  {
   "cell_type": "code",
   "execution_count": 63,
   "id": "7034d58f",
   "metadata": {},
   "outputs": [
    {
     "data": {
      "text/plain": [
       "['smallgoose408',\n",
       " 'silverrabbit153',\n",
       " 'orangetiger540',\n",
       " 'ticklishelephant316',\n",
       " 'brownduck199',\n",
       " 'ticklishzebra635',\n",
       " 'bluecat268',\n",
       " 'blackmeercat269',\n",
       " 'blackzebra599',\n",
       " 'orangeladybug848']"
      ]
     },
     "execution_count": 63,
     "metadata": {},
     "output_type": "execute_result"
    }
   ],
   "source": [
    "# collect list of usernames for each user\n",
    "[person['login']['username'] for person in rj['results']]"
   ]
  },
  {
   "cell_type": "code",
   "execution_count": null,
   "id": "19453383",
   "metadata": {},
   "outputs": [],
   "source": []
  }
 ],
 "metadata": {
  "kernelspec": {
   "display_name": "Python 3 (ipykernel)",
   "language": "python",
   "name": "python3"
  },
  "language_info": {
   "codemirror_mode": {
    "name": "ipython",
    "version": 3
   },
   "file_extension": ".py",
   "mimetype": "text/x-python",
   "name": "python",
   "nbconvert_exporter": "python",
   "pygments_lexer": "ipython3",
   "version": "3.9.7"
  },
  "latex_envs": {
   "LaTeX_envs_menu_present": true,
   "autoclose": false,
   "autocomplete": true,
   "bibliofile": "biblio.bib",
   "cite_by": "apalike",
   "current_citInitial": 1,
   "eqLabelWithNumbers": true,
   "eqNumInitial": 1,
   "hotkeys": {
    "equation": "Ctrl-E",
    "itemize": "Ctrl-I"
   },
   "labels_anchors": false,
   "latex_user_defs": false,
   "report_style_numbering": false,
   "user_envs_cfg": false
  },
  "toc": {
   "base_numbering": 1,
   "nav_menu": {},
   "number_sections": true,
   "sideBar": true,
   "skip_h1_title": false,
   "title_cell": "Table of Contents",
   "title_sidebar": "Contents",
   "toc_cell": false,
   "toc_position": {},
   "toc_section_display": true,
   "toc_window_display": false
  },
  "varInspector": {
   "cols": {
    "lenName": 16,
    "lenType": 16,
    "lenVar": 40
   },
   "kernels_config": {
    "python": {
     "delete_cmd_postfix": "",
     "delete_cmd_prefix": "del ",
     "library": "var_list.py",
     "varRefreshCmd": "print(var_dic_list())"
    },
    "r": {
     "delete_cmd_postfix": ") ",
     "delete_cmd_prefix": "rm(",
     "library": "var_list.r",
     "varRefreshCmd": "cat(var_dic_list()) "
    }
   },
   "types_to_exclude": [
    "module",
    "function",
    "builtin_function_or_method",
    "instance",
    "_Feature"
   ],
   "window_display": false
  }
 },
 "nbformat": 4,
 "nbformat_minor": 5
}
